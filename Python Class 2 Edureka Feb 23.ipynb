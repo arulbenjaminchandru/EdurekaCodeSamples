{
 "cells": [
  {
   "cell_type": "code",
   "execution_count": 18,
   "metadata": {},
   "outputs": [
    {
     "name": "stdout",
     "output_type": "stream",
     "text": [
      "0\n",
      "100\n",
      "False\n",
      "100\n",
      "0\n",
      "100\n",
      "-1\n",
      "100\n",
      "100\n"
     ]
    }
   ],
   "source": [
    "## Logical Operators\n",
    "\n",
    "a=100\n",
    "b=0\n",
    "print(a and b)\n",
    "print(a or b)\n",
    "print(not a)\n",
    "\n",
    "##Bitwise Operators\n",
    "\n",
    "print(a|b)\n",
    "print(a&b)\n",
    "print(a^b)\n",
    "print(~b)\n",
    "print(a<<b)\n",
    "print(a>>b)"
   ]
  },
  {
   "cell_type": "code",
   "execution_count": 16,
   "metadata": {},
   "outputs": [
    {
     "name": "stdout",
     "output_type": "stream",
     "text": [
      "0\n",
      "110\n",
      "True\n",
      "110\n",
      "0\n",
      "110\n",
      "-111\n",
      "0\n",
      "0\n"
     ]
    }
   ],
   "source": [
    "a=0\n",
    "b=110\n",
    "print(a and b)\n",
    "print(a or b)\n",
    "print(not a)\n",
    "print(a|b)\n",
    "print(a&b)\n",
    "print(a^b)\n",
    "print(~b)\n",
    "print(a<<b)\n",
    "print(a>>b)"
   ]
  },
  {
   "cell_type": "code",
   "execution_count": 28,
   "metadata": {},
   "outputs": [
    {
     "name": "stdout",
     "output_type": "stream",
     "text": [
      "False\n",
      "True\n",
      "4347459856\n",
      "4347460176\n",
      "4347459856\n",
      "4347675104\n",
      "True\n",
      "[2, 3]\n",
      "False\n",
      "False\n",
      "False\n",
      "False\n",
      "False\n",
      "False\n",
      "True\n",
      "True\n",
      "False\n",
      "False\n",
      "False\n",
      "False\n"
     ]
    }
   ],
   "source": [
    "## Membership operators\n",
    "\n",
    "a = [1,2,3,4]\n",
    "b = [1,2,3,4]\n",
    "c = [4,5,6,7]\n",
    "d = [3,2,1,4]\n",
    "e = a\n",
    "sub_a = a[1:3]\n",
    "\n",
    "print(a is b)\n",
    "print(a is not b)\n",
    "print(id(a))\n",
    "print(id(b))\n",
    "print(id(e))\n",
    "print(id(sub_a))\n",
    "print(a == b)\n",
    "print(sub_a)\n",
    "print(sub_a is a)\n",
    "print(a is c)\n",
    "print(a is d)\n",
    "print(b is c)\n",
    "print(b is d)\n",
    "print(c is d)\n",
    "print(a is e)\n",
    "print(e is a)\n",
    "\n",
    "print(a in b)\n",
    "print(a in d)\n",
    "print(sub_a in a)\n",
    "print(a in e)\n",
    "## a and b values are same but these are not same elements. a and e are having same address."
   ]
  },
  {
   "cell_type": "code",
   "execution_count": 34,
   "metadata": {},
   "outputs": [
    {
     "name": "stdout",
     "output_type": "stream",
     "text": [
      "name is in name_list_1\n"
     ]
    }
   ],
   "source": [
    "name = 'Arul'\n",
    "name_list = ['Prisci','Ezra','Titus']\n",
    "name_list_1 = ['Arul','Benjamin','Chandru']\n",
    "\n",
    "if name in name_list:\n",
    "    print('name is in name_list')\n",
    "elif name in name_list_1:\n",
    "    print('name is in name_list_1')\n",
    "else:\n",
    "    print(False)"
   ]
  },
  {
   "cell_type": "code",
   "execution_count": 48,
   "metadata": {},
   "outputs": [
    {
     "name": "stdout",
     "output_type": "stream",
     "text": [
      "Enter the number of times to print : 5\n",
      "Printing i 0\n",
      "Printing i 1\n",
      "Printing i 2\n",
      "Printing i 3\n",
      "Printing i 4\n",
      "Arul\n",
      "Benjamin\n",
      "Chandru\n",
      "Arul\n",
      "Benjamin\n",
      "Chandru\n"
     ]
    }
   ],
   "source": [
    "## Loops\n",
    "\n",
    "inp_num = int(input('Enter the number of times to print : '))\n",
    "i=0\n",
    "while i < inp_num:\n",
    "    print('Printing i {}' .format(i))\n",
    "    i+=1\n",
    "\n",
    "names = ['Arul','Benjamin','Chandru']\n",
    "for j in range(len(names)):\n",
    "    print(names[j])\n",
    "    \n",
    "for name in names:\n",
    "    print(name)"
   ]
  },
  {
   "cell_type": "code",
   "execution_count": 51,
   "metadata": {},
   "outputs": [
    {
     "name": "stdout",
     "output_type": "stream",
     "text": [
      "[0, 1, 2, 3, 4, 5, 6, 7, 8, 9]\n",
      "[1, 3, 5, 7, 9]\n",
      "[5, 6, 7, 8, 9]\n"
     ]
    }
   ],
   "source": [
    "#range(stop)\n",
    "print(list(range(10)))\n",
    "#range(start,stop,step)\n",
    "print(list(range(1,10,2)))\n",
    "#range(start,stop)\n",
    "print(list(range(5,10)))"
   ]
  },
  {
   "cell_type": "code",
   "execution_count": 56,
   "metadata": {},
   "outputs": [
    {
     "name": "stdout",
     "output_type": "stream",
     "text": [
      "Enter a number to find factorial : 7\n",
      "fact value is 1\n",
      "fact value is 2\n",
      "fact value is 6\n",
      "fact value is 24\n",
      "fact value is 120\n",
      "fact value is 720\n",
      "fact value is 5040\n",
      "Factorial is 5040\n"
     ]
    }
   ],
   "source": [
    "## factorial logic using for loop\n",
    "\n",
    "num_inp = int(input('Enter a number to find factorial : '))\n",
    "fact=1\n",
    "for num in range(1,num_inp+1):\n",
    "    fact = fact*num\n",
    "    print('fact value is {}'.format(fact))\n",
    "\n",
    "print('Factorial is {}'.format(fact))"
   ]
  },
  {
   "cell_type": "code",
   "execution_count": 65,
   "metadata": {},
   "outputs": [
    {
     "name": "stdout",
     "output_type": "stream",
     "text": [
      "Enter the number of tables you want to print : 5\n",
      "******** Multiplication Tables **********\n",
      "Table : 1\n",
      "***************\n",
      "1 * 1 = 1\n",
      "2 * 1 = 2\n",
      "3 * 1 = 3\n",
      "4 * 1 = 4\n",
      "5 * 1 = 5\n",
      "6 * 1 = 6\n",
      "7 * 1 = 7\n",
      "8 * 1 = 8\n",
      "9 * 1 = 9\n",
      "10 * 1 = 10\n",
      "******************\n",
      "Table : 2\n",
      "***************\n",
      "1 * 2 = 2\n",
      "2 * 2 = 4\n",
      "3 * 2 = 6\n",
      "4 * 2 = 8\n",
      "5 * 2 = 10\n",
      "6 * 2 = 12\n",
      "7 * 2 = 14\n",
      "8 * 2 = 16\n",
      "9 * 2 = 18\n",
      "10 * 2 = 20\n",
      "******************\n",
      "Table : 3\n",
      "***************\n",
      "1 * 3 = 3\n",
      "2 * 3 = 6\n",
      "3 * 3 = 9\n",
      "4 * 3 = 12\n",
      "5 * 3 = 15\n",
      "6 * 3 = 18\n",
      "7 * 3 = 21\n",
      "8 * 3 = 24\n",
      "9 * 3 = 27\n",
      "10 * 3 = 30\n",
      "******************\n",
      "Table : 4\n",
      "***************\n",
      "1 * 4 = 4\n",
      "2 * 4 = 8\n",
      "3 * 4 = 12\n",
      "4 * 4 = 16\n",
      "5 * 4 = 20\n",
      "6 * 4 = 24\n",
      "7 * 4 = 28\n",
      "8 * 4 = 32\n",
      "9 * 4 = 36\n",
      "10 * 4 = 40\n",
      "******************\n",
      "Table : 5\n",
      "***************\n",
      "1 * 5 = 5\n",
      "2 * 5 = 10\n",
      "3 * 5 = 15\n",
      "4 * 5 = 20\n",
      "5 * 5 = 25\n",
      "6 * 5 = 30\n",
      "7 * 5 = 35\n",
      "8 * 5 = 40\n",
      "9 * 5 = 45\n",
      "10 * 5 = 50\n",
      "******************\n"
     ]
    }
   ],
   "source": [
    "## multiplication tables using nested for loop\n",
    "\n",
    "inp_1 = int(input('Enter the number of tables you want to print : '))\n",
    "print('******** Multiplication Tables **********')\n",
    "for num in range(1,inp_1+1):\n",
    "    print(\"Table : {}\".format(num))\n",
    "    print('***************')\n",
    "    for num2 in range(1,11):\n",
    "        num3 = num * num2\n",
    "        print('{} * {} = {}'.format(num2,num,num3))\n",
    "    print('******************')"
   ]
  },
  {
   "cell_type": "code",
   "execution_count": 72,
   "metadata": {},
   "outputs": [
    {
     "name": "stdout",
     "output_type": "stream",
     "text": [
      "3\n",
      "continue was found in range\n",
      "4\n",
      "continue was found in range\n",
      "5\n",
      "6\n",
      "continue was found in range\n",
      "3\n",
      "pass was found in range\n",
      "4\n",
      "pass was found in range\n",
      "5\n",
      "pass was found in range\n",
      "6\n",
      "pass was found in range\n",
      "3\n",
      "break was found in range\n",
      "4\n",
      "break was found in range\n",
      "5\n"
     ]
    }
   ],
   "source": [
    "## Loop controls - continue, pass, break\n",
    "\n",
    "for j in range(3,7):\n",
    "    print(j)\n",
    "    if(j==5):\n",
    "        continue\n",
    "    print('continue was found in range')\n",
    "\n",
    "for k in range(3,7):\n",
    "    print(k)\n",
    "    if(k==5):\n",
    "        pass\n",
    "    print('pass was found in range')\n",
    "\n",
    "for l in range(3,7):\n",
    "    print(l)\n",
    "    if(l==5):\n",
    "        break\n",
    "    print('break was found in range')"
   ]
  },
  {
   "cell_type": "code",
   "execution_count": 74,
   "metadata": {},
   "outputs": [
    {
     "name": "stdout",
     "output_type": "stream",
     "text": [
      "['/opt/anaconda3/lib/python3.7/site-packages/ipykernel_launcher.py', '-f', '/Users/arulbenjamin/Library/Jupyter/runtime/kernel-4e8e4c70-6de0-4a16-ba45-831f6a84e44a.json']\n"
     ]
    }
   ],
   "source": [
    "import sys\n",
    "print(sys.argv)"
   ]
  },
  {
   "cell_type": "code",
   "execution_count": 78,
   "metadata": {},
   "outputs": [
    {
     "name": "stdout",
     "output_type": "stream",
     "text": [
      "File operation testing\n"
     ]
    }
   ],
   "source": [
    "## file concepts\n",
    "\n",
    "import os\n",
    "\n",
    "newfile = open('Test_class2.txt','w+')\n",
    "## This file does not available in system. so giving access mode as w+\n",
    "str1 = 'File operation testing'\n",
    "## write file\n",
    "newfile.write(str1)\n",
    "newfile.close()\n",
    "\n",
    "## read file\n",
    "newfile1 = open('Test_class2.txt','r')\n",
    "print(newfile1.read())\n",
    "newfile1.close()"
   ]
  },
  {
   "cell_type": "code",
   "execution_count": 88,
   "metadata": {},
   "outputs": [
    {
     "name": "stdout",
     "output_type": "stream",
     "text": [
      "[1, 2, 3, 4, 5, 'a', 's', 'd', 'f']\n",
      "[6, 7, 8, 9, 0, 'z', 'x', 'c', 'v']\n",
      "[1, 2, 3, 4, 5, 'a', 's', 'd', 'f', 6, 7, 8, 9, 0, 'z', 'x', 'c', 'v']\n",
      "[1, 2, 3, 4, 5, 'a', 's', 'd', 'f', 1, 2, 3, 4, 5, 'a', 's', 'd', 'f', 1, 2, 3, 4, 5, 'a', 's', 'd', 'f']\n",
      "True\n",
      "8\n",
      "[2, 3, 4]\n"
     ]
    }
   ],
   "source": [
    "## sequences\n",
    "\n",
    "## sequence concatenation\n",
    "item1 = [1,2,3,4,5,'a','s','d','f']\n",
    "item2 = [6,7,8,9,0,'z','x','c','v']\n",
    "print(item1)\n",
    "print(item2)\n",
    "print(item1 + item2)\n",
    "## sequence repitition\n",
    "print(item1*3)\n",
    "## sequence membership testing\n",
    "print(1 in item1)\n",
    "## slicing\n",
    "print(item2[2])\n",
    "## indexing\n",
    "print(item1[1:4])"
   ]
  },
  {
   "cell_type": "code",
   "execution_count": 97,
   "metadata": {},
   "outputs": [
    {
     "name": "stdout",
     "output_type": "stream",
     "text": [
      "[1, 'a', 2, 's']\n",
      "['d', 'f']\n",
      "[1, 2, 3, 4, 5, 'a', 's', 'd', 'f', 1, 2, 3, 4, 5, 'a', 's']\n",
      "[1, 2, 3, 4, 5, 'a', 's', 'd', 'f', 1, 2, 3, 4, 5, 'a', 's', 'd', 'f']\n",
      "['f', 'd', 's', 'a', 5, 4, 3, 2, 1, 'f', 'd', 's', 'a', 5, 4, 3, 2, 1]\n"
     ]
    }
   ],
   "source": [
    "item1 = [1,2,3,4,5,'a','s','d','f']\n",
    "item2 = item1*2\n",
    "## prints every 5th element in list using step parameter\n",
    "print(item2[::5]) \n",
    "## prints last 2 values\n",
    "print(item2[-2:])\n",
    "## prints everything except last 2 values\n",
    "print(item2[:-2])\n",
    "print(item2)\n",
    "## prints reverse of the list\n",
    "print(item2[::-1])"
   ]
  },
  {
   "cell_type": "code",
   "execution_count": null,
   "metadata": {},
   "outputs": [],
   "source": []
  }
 ],
 "metadata": {
  "kernelspec": {
   "display_name": "Python 3",
   "language": "python",
   "name": "python3"
  },
  "language_info": {
   "codemirror_mode": {
    "name": "ipython",
    "version": 3
   },
   "file_extension": ".py",
   "mimetype": "text/x-python",
   "name": "python",
   "nbconvert_exporter": "python",
   "pygments_lexer": "ipython3",
   "version": "3.7.4"
  }
 },
 "nbformat": 4,
 "nbformat_minor": 2
}
