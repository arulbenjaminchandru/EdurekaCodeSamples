{
 "cells": [
  {
   "cell_type": "markdown",
   "metadata": {
    "toc": true
   },
   "source": [
    "<h1>Table of Contents<span class=\"tocSkip\"></span></h1>\n",
    "<div class=\"toc\"><ul class=\"toc-item\"></ul></div>"
   ]
  },
  {
   "cell_type": "code",
   "execution_count": 1,
   "metadata": {
    "ExecuteTime": {
     "end_time": "2020-03-01T15:13:00.118290Z",
     "start_time": "2020-03-01T15:13:00.064515Z"
    }
   },
   "outputs": [],
   "source": [
    "tup1=(\"Haddop\",\"Python\",\"Java\",1,2,3)\n",
    "\n",
    "#print(len(tup1))\n",
    "#print(max(tup1))\n",
    "#print(min(tup1))\n",
    "\n"
   ]
  },
  {
   "cell_type": "code",
   "execution_count": 2,
   "metadata": {
    "ExecuteTime": {
     "end_time": "2020-03-01T15:13:00.266085Z",
     "start_time": "2020-03-01T15:13:00.136010Z"
    }
   },
   "outputs": [
    {
     "data": {
      "text/plain": [
       "['__add__',\n",
       " '__class__',\n",
       " '__contains__',\n",
       " '__delattr__',\n",
       " '__dir__',\n",
       " '__doc__',\n",
       " '__eq__',\n",
       " '__format__',\n",
       " '__ge__',\n",
       " '__getattribute__',\n",
       " '__getitem__',\n",
       " '__getnewargs__',\n",
       " '__gt__',\n",
       " '__hash__',\n",
       " '__init__',\n",
       " '__init_subclass__',\n",
       " '__iter__',\n",
       " '__le__',\n",
       " '__len__',\n",
       " '__lt__',\n",
       " '__mul__',\n",
       " '__ne__',\n",
       " '__new__',\n",
       " '__reduce__',\n",
       " '__reduce_ex__',\n",
       " '__repr__',\n",
       " '__rmul__',\n",
       " '__setattr__',\n",
       " '__sizeof__',\n",
       " '__str__',\n",
       " '__subclasshook__',\n",
       " 'count',\n",
       " 'index']"
      ]
     },
     "execution_count": 2,
     "metadata": {},
     "output_type": "execute_result"
    }
   ],
   "source": [
    "dir(tup1)"
   ]
  },
  {
   "cell_type": "code",
   "execution_count": 3,
   "metadata": {
    "ExecuteTime": {
     "end_time": "2020-03-01T15:13:00.291437Z",
     "start_time": "2020-03-01T15:13:00.276359Z"
    }
   },
   "outputs": [
    {
     "data": {
      "text/plain": [
       "2"
      ]
     },
     "execution_count": 3,
     "metadata": {},
     "output_type": "execute_result"
    }
   ],
   "source": [
    "tup1.index('Java')"
   ]
  },
  {
   "cell_type": "code",
   "execution_count": 4,
   "metadata": {
    "ExecuteTime": {
     "end_time": "2020-03-01T15:13:00.350937Z",
     "start_time": "2020-03-01T15:13:00.306276Z"
    }
   },
   "outputs": [
    {
     "data": {
      "text/plain": [
       "1"
      ]
     },
     "execution_count": 4,
     "metadata": {},
     "output_type": "execute_result"
    }
   ],
   "source": [
    "tup1.count('Python')"
   ]
  },
  {
   "cell_type": "code",
   "execution_count": 5,
   "metadata": {
    "ExecuteTime": {
     "end_time": "2020-03-01T15:13:00.404461Z",
     "start_time": "2020-03-01T15:13:00.392587Z"
    }
   },
   "outputs": [
    {
     "data": {
      "text/plain": [
       "('Haddop', 'Python', 'Java', 1, 2, 3)"
      ]
     },
     "execution_count": 5,
     "metadata": {},
     "output_type": "execute_result"
    }
   ],
   "source": [
    "tup1"
   ]
  },
  {
   "cell_type": "code",
   "execution_count": 6,
   "metadata": {
    "ExecuteTime": {
     "end_time": "2020-03-01T15:13:00.413366Z",
     "start_time": "2020-03-01T15:13:00.407959Z"
    }
   },
   "outputs": [],
   "source": [
    "list1 = list(tup1)"
   ]
  },
  {
   "cell_type": "code",
   "execution_count": 7,
   "metadata": {
    "ExecuteTime": {
     "end_time": "2020-03-01T15:13:00.431277Z",
     "start_time": "2020-03-01T15:13:00.416337Z"
    }
   },
   "outputs": [
    {
     "data": {
      "text/plain": [
       "['Haddop', 'Python', 'Java', 1, 2, 3]"
      ]
     },
     "execution_count": 7,
     "metadata": {},
     "output_type": "execute_result"
    }
   ],
   "source": [
    "list1"
   ]
  },
  {
   "cell_type": "code",
   "execution_count": 8,
   "metadata": {
    "ExecuteTime": {
     "end_time": "2020-03-01T15:13:00.462543Z",
     "start_time": "2020-03-01T15:13:00.435224Z"
    }
   },
   "outputs": [
    {
     "data": {
      "text/plain": [
       "['__add__',\n",
       " '__class__',\n",
       " '__contains__',\n",
       " '__delattr__',\n",
       " '__delitem__',\n",
       " '__dir__',\n",
       " '__doc__',\n",
       " '__eq__',\n",
       " '__format__',\n",
       " '__ge__',\n",
       " '__getattribute__',\n",
       " '__getitem__',\n",
       " '__gt__',\n",
       " '__hash__',\n",
       " '__iadd__',\n",
       " '__imul__',\n",
       " '__init__',\n",
       " '__init_subclass__',\n",
       " '__iter__',\n",
       " '__le__',\n",
       " '__len__',\n",
       " '__lt__',\n",
       " '__mul__',\n",
       " '__ne__',\n",
       " '__new__',\n",
       " '__reduce__',\n",
       " '__reduce_ex__',\n",
       " '__repr__',\n",
       " '__reversed__',\n",
       " '__rmul__',\n",
       " '__setattr__',\n",
       " '__setitem__',\n",
       " '__sizeof__',\n",
       " '__str__',\n",
       " '__subclasshook__',\n",
       " 'append',\n",
       " 'clear',\n",
       " 'copy',\n",
       " 'count',\n",
       " 'extend',\n",
       " 'index',\n",
       " 'insert',\n",
       " 'pop',\n",
       " 'remove',\n",
       " 'reverse',\n",
       " 'sort']"
      ]
     },
     "execution_count": 8,
     "metadata": {},
     "output_type": "execute_result"
    }
   ],
   "source": [
    "dir(list1)"
   ]
  },
  {
   "cell_type": "code",
   "execution_count": 9,
   "metadata": {
    "ExecuteTime": {
     "end_time": "2020-03-01T15:13:00.479004Z",
     "start_time": "2020-03-01T15:13:00.473795Z"
    }
   },
   "outputs": [],
   "source": [
    "del tup1\n",
    "\n"
   ]
  },
  {
   "cell_type": "code",
   "execution_count": 10,
   "metadata": {
    "ExecuteTime": {
     "end_time": "2020-03-01T15:13:00.493113Z",
     "start_time": "2020-03-01T15:13:00.485029Z"
    }
   },
   "outputs": [],
   "source": [
    "tup1 = ('a','A','b','B',1,2,3)"
   ]
  },
  {
   "cell_type": "code",
   "execution_count": 11,
   "metadata": {
    "ExecuteTime": {
     "end_time": "2020-03-01T15:13:00.501899Z",
     "start_time": "2020-03-01T15:13:00.497234Z"
    }
   },
   "outputs": [],
   "source": [
    "#max(tup1)"
   ]
  },
  {
   "cell_type": "code",
   "execution_count": 12,
   "metadata": {
    "ExecuteTime": {
     "end_time": "2020-03-01T15:13:00.516682Z",
     "start_time": "2020-03-01T15:13:00.506667Z"
    }
   },
   "outputs": [],
   "source": [
    "#min(tup1)"
   ]
  },
  {
   "cell_type": "code",
   "execution_count": 13,
   "metadata": {
    "ExecuteTime": {
     "end_time": "2020-03-01T15:13:00.529777Z",
     "start_time": "2020-03-01T15:13:00.523576Z"
    }
   },
   "outputs": [],
   "source": [
    "list1*=2"
   ]
  },
  {
   "cell_type": "code",
   "execution_count": 14,
   "metadata": {
    "ExecuteTime": {
     "end_time": "2020-03-01T15:13:00.540637Z",
     "start_time": "2020-03-01T15:13:00.533606Z"
    }
   },
   "outputs": [
    {
     "data": {
      "text/plain": [
       "['Haddop', 'Python', 'Java', 1, 2, 3, 'Haddop', 'Python', 'Java', 1, 2, 3]"
      ]
     },
     "execution_count": 14,
     "metadata": {},
     "output_type": "execute_result"
    }
   ],
   "source": [
    "list1"
   ]
  },
  {
   "cell_type": "code",
   "execution_count": 15,
   "metadata": {
    "ExecuteTime": {
     "end_time": "2020-03-01T15:13:00.547545Z",
     "start_time": "2020-03-01T15:13:00.542535Z"
    }
   },
   "outputs": [],
   "source": [
    "#sorted(list1)"
   ]
  },
  {
   "cell_type": "code",
   "execution_count": 16,
   "metadata": {
    "ExecuteTime": {
     "end_time": "2020-03-01T15:13:00.559307Z",
     "start_time": "2020-03-01T15:13:00.551284Z"
    }
   },
   "outputs": [
    {
     "data": {
      "text/plain": [
       "[3, 2, 1, 'Java', 'Python', 'Haddop', 3, 2, 1, 'Java', 'Python', 'Haddop']"
      ]
     },
     "execution_count": 16,
     "metadata": {},
     "output_type": "execute_result"
    }
   ],
   "source": [
    "list1[::-1]"
   ]
  },
  {
   "cell_type": "code",
   "execution_count": 17,
   "metadata": {
    "ExecuteTime": {
     "end_time": "2020-03-01T15:13:00.609453Z",
     "start_time": "2020-03-01T15:13:00.596740Z"
    }
   },
   "outputs": [],
   "source": [
    "#sorted(tup1)"
   ]
  },
  {
   "cell_type": "code",
   "execution_count": 18,
   "metadata": {
    "ExecuteTime": {
     "end_time": "2020-03-01T15:13:00.627886Z",
     "start_time": "2020-03-01T15:13:00.615012Z"
    }
   },
   "outputs": [
    {
     "data": {
      "text/plain": [
       "(3, 2, 1, 'B', 'b', 'A', 'a')"
      ]
     },
     "execution_count": 18,
     "metadata": {},
     "output_type": "execute_result"
    }
   ],
   "source": [
    "tup1[::-1]"
   ]
  },
  {
   "cell_type": "code",
   "execution_count": 19,
   "metadata": {
    "ExecuteTime": {
     "end_time": "2020-03-01T15:13:00.655566Z",
     "start_time": "2020-03-01T15:13:00.632289Z"
    }
   },
   "outputs": [],
   "source": [
    "list_inside_tuple = ([1,2,3],[4,5,6],['a','b','v','g','t'])\n",
    "tuple_inside_list = [(1,2),3,(4,3)]"
   ]
  },
  {
   "cell_type": "code",
   "execution_count": 20,
   "metadata": {
    "ExecuteTime": {
     "end_time": "2020-03-01T15:13:00.666963Z",
     "start_time": "2020-03-01T15:13:00.658337Z"
    }
   },
   "outputs": [],
   "source": [
    "list_inside_tuple[0].append(400)"
   ]
  },
  {
   "cell_type": "code",
   "execution_count": 21,
   "metadata": {
    "ExecuteTime": {
     "end_time": "2020-03-01T15:13:00.678938Z",
     "start_time": "2020-03-01T15:13:00.669826Z"
    }
   },
   "outputs": [
    {
     "data": {
      "text/plain": [
       "tuple"
      ]
     },
     "execution_count": 21,
     "metadata": {},
     "output_type": "execute_result"
    }
   ],
   "source": [
    "type(list_inside_tuple)"
   ]
  },
  {
   "cell_type": "code",
   "execution_count": 22,
   "metadata": {
    "ExecuteTime": {
     "end_time": "2020-03-01T15:13:00.702776Z",
     "start_time": "2020-03-01T15:13:00.682404Z"
    }
   },
   "outputs": [
    {
     "data": {
      "text/plain": [
       "([1, 2, 3, 400], [4, 5, 6], ['a', 'b', 'v', 'g', 't'])"
      ]
     },
     "execution_count": 22,
     "metadata": {},
     "output_type": "execute_result"
    }
   ],
   "source": [
    "list_inside_tuple"
   ]
  },
  {
   "cell_type": "code",
   "execution_count": 23,
   "metadata": {
    "ExecuteTime": {
     "end_time": "2020-03-01T15:13:00.746942Z",
     "start_time": "2020-03-01T15:13:00.737883Z"
    }
   },
   "outputs": [
    {
     "data": {
      "text/plain": [
       "4455721648"
      ]
     },
     "execution_count": 23,
     "metadata": {},
     "output_type": "execute_result"
    }
   ],
   "source": [
    "id(list_inside_tuple)"
   ]
  },
  {
   "cell_type": "code",
   "execution_count": 24,
   "metadata": {
    "ExecuteTime": {
     "end_time": "2020-03-01T15:13:00.761965Z",
     "start_time": "2020-03-01T15:13:00.753448Z"
    }
   },
   "outputs": [
    {
     "data": {
      "text/plain": [
       "4455721648"
      ]
     },
     "execution_count": 24,
     "metadata": {},
     "output_type": "execute_result"
    }
   ],
   "source": [
    "id(list_inside_tuple)"
   ]
  },
  {
   "cell_type": "code",
   "execution_count": 25,
   "metadata": {
    "ExecuteTime": {
     "end_time": "2020-03-01T15:13:00.774746Z",
     "start_time": "2020-03-01T15:13:00.765585Z"
    }
   },
   "outputs": [
    {
     "data": {
      "text/plain": [
       "tuple"
      ]
     },
     "execution_count": 25,
     "metadata": {},
     "output_type": "execute_result"
    }
   ],
   "source": [
    "type(tuple_inside_list[0])"
   ]
  },
  {
   "cell_type": "code",
   "execution_count": 26,
   "metadata": {
    "ExecuteTime": {
     "end_time": "2020-03-01T15:13:00.784272Z",
     "start_time": "2020-03-01T15:13:00.777293Z"
    }
   },
   "outputs": [],
   "source": [
    "tuple_inside_list.append((1,2,3,4,5))"
   ]
  },
  {
   "cell_type": "code",
   "execution_count": 27,
   "metadata": {
    "ExecuteTime": {
     "end_time": "2020-03-01T15:13:00.883980Z",
     "start_time": "2020-03-01T15:13:00.807044Z"
    }
   },
   "outputs": [
    {
     "data": {
      "text/plain": [
       "(1, 2)"
      ]
     },
     "execution_count": 27,
     "metadata": {},
     "output_type": "execute_result"
    }
   ],
   "source": [
    "tuple_inside_list[0]"
   ]
  },
  {
   "cell_type": "code",
   "execution_count": 96,
   "metadata": {
    "ExecuteTime": {
     "end_time": "2020-03-01T15:26:53.895310Z",
     "start_time": "2020-03-01T15:26:53.874579Z"
    }
   },
   "outputs": [
    {
     "name": "stdout",
     "output_type": "stream",
     "text": [
      "welCOme\n",
      "to\n",
      "Edureka\n"
     ]
    },
    {
     "data": {
      "text/plain": [
       "['__add__',\n",
       " '__class__',\n",
       " '__contains__',\n",
       " '__delattr__',\n",
       " '__dir__',\n",
       " '__doc__',\n",
       " '__eq__',\n",
       " '__format__',\n",
       " '__ge__',\n",
       " '__getattribute__',\n",
       " '__getitem__',\n",
       " '__getnewargs__',\n",
       " '__gt__',\n",
       " '__hash__',\n",
       " '__init__',\n",
       " '__init_subclass__',\n",
       " '__iter__',\n",
       " '__le__',\n",
       " '__len__',\n",
       " '__lt__',\n",
       " '__mod__',\n",
       " '__mul__',\n",
       " '__ne__',\n",
       " '__new__',\n",
       " '__reduce__',\n",
       " '__reduce_ex__',\n",
       " '__repr__',\n",
       " '__rmod__',\n",
       " '__rmul__',\n",
       " '__setattr__',\n",
       " '__sizeof__',\n",
       " '__str__',\n",
       " '__subclasshook__',\n",
       " 'capitalize',\n",
       " 'casefold',\n",
       " 'center',\n",
       " 'count',\n",
       " 'encode',\n",
       " 'endswith',\n",
       " 'expandtabs',\n",
       " 'find',\n",
       " 'format',\n",
       " 'format_map',\n",
       " 'index',\n",
       " 'isalnum',\n",
       " 'isalpha',\n",
       " 'isascii',\n",
       " 'isdecimal',\n",
       " 'isdigit',\n",
       " 'isidentifier',\n",
       " 'islower',\n",
       " 'isnumeric',\n",
       " 'isprintable',\n",
       " 'isspace',\n",
       " 'istitle',\n",
       " 'isupper',\n",
       " 'join',\n",
       " 'ljust',\n",
       " 'lower',\n",
       " 'lstrip',\n",
       " 'maketrans',\n",
       " 'partition',\n",
       " 'replace',\n",
       " 'rfind',\n",
       " 'rindex',\n",
       " 'rjust',\n",
       " 'rpartition',\n",
       " 'rsplit',\n",
       " 'rstrip',\n",
       " 'split',\n",
       " 'splitlines',\n",
       " 'startswith',\n",
       " 'strip',\n",
       " 'swapcase',\n",
       " 'title',\n",
       " 'translate',\n",
       " 'upper',\n",
       " 'zfill']"
      ]
     },
     "execution_count": 96,
     "metadata": {},
     "output_type": "execute_result"
    }
   ],
   "source": [
    "str1='welCOme'\n",
    "str2=\"to\"\n",
    "str3=\"\"\"Edureka\"\"\"\n",
    "str4 = 'UPPER CASE'\n",
    "\n",
    "print(str1)\n",
    "print(str2)\n",
    "print(str3)"
   ]
  },
  {
   "cell_type": "code",
   "execution_count": 29,
   "metadata": {
    "ExecuteTime": {
     "end_time": "2020-03-01T15:13:00.916324Z",
     "start_time": "2020-03-01T15:13:00.907528Z"
    }
   },
   "outputs": [
    {
     "data": {
      "text/plain": [
       "'dure'"
      ]
     },
     "execution_count": 29,
     "metadata": {},
     "output_type": "execute_result"
    }
   ],
   "source": [
    "str3[1:5]"
   ]
  },
  {
   "cell_type": "code",
   "execution_count": 30,
   "metadata": {
    "ExecuteTime": {
     "end_time": "2020-03-01T15:13:00.932530Z",
     "start_time": "2020-03-01T15:13:00.924586Z"
    }
   },
   "outputs": [
    {
     "data": {
      "text/plain": [
       "'to Edureka'"
      ]
     },
     "execution_count": 30,
     "metadata": {},
     "output_type": "execute_result"
    }
   ],
   "source": [
    "str2+' '+str3"
   ]
  },
  {
   "cell_type": "code",
   "execution_count": 31,
   "metadata": {
    "ExecuteTime": {
     "end_time": "2020-03-01T15:13:00.983990Z",
     "start_time": "2020-03-01T15:13:00.966438Z"
    }
   },
   "outputs": [
    {
     "data": {
      "text/plain": [
       "['__add__',\n",
       " '__class__',\n",
       " '__contains__',\n",
       " '__delattr__',\n",
       " '__dir__',\n",
       " '__doc__',\n",
       " '__eq__',\n",
       " '__format__',\n",
       " '__ge__',\n",
       " '__getattribute__',\n",
       " '__getitem__',\n",
       " '__getnewargs__',\n",
       " '__gt__',\n",
       " '__hash__',\n",
       " '__init__',\n",
       " '__init_subclass__',\n",
       " '__iter__',\n",
       " '__le__',\n",
       " '__len__',\n",
       " '__lt__',\n",
       " '__mod__',\n",
       " '__mul__',\n",
       " '__ne__',\n",
       " '__new__',\n",
       " '__reduce__',\n",
       " '__reduce_ex__',\n",
       " '__repr__',\n",
       " '__rmod__',\n",
       " '__rmul__',\n",
       " '__setattr__',\n",
       " '__sizeof__',\n",
       " '__str__',\n",
       " '__subclasshook__',\n",
       " 'capitalize',\n",
       " 'casefold',\n",
       " 'center',\n",
       " 'count',\n",
       " 'encode',\n",
       " 'endswith',\n",
       " 'expandtabs',\n",
       " 'find',\n",
       " 'format',\n",
       " 'format_map',\n",
       " 'index',\n",
       " 'isalnum',\n",
       " 'isalpha',\n",
       " 'isascii',\n",
       " 'isdecimal',\n",
       " 'isdigit',\n",
       " 'isidentifier',\n",
       " 'islower',\n",
       " 'isnumeric',\n",
       " 'isprintable',\n",
       " 'isspace',\n",
       " 'istitle',\n",
       " 'isupper',\n",
       " 'join',\n",
       " 'ljust',\n",
       " 'lower',\n",
       " 'lstrip',\n",
       " 'maketrans',\n",
       " 'partition',\n",
       " 'replace',\n",
       " 'rfind',\n",
       " 'rindex',\n",
       " 'rjust',\n",
       " 'rpartition',\n",
       " 'rsplit',\n",
       " 'rstrip',\n",
       " 'split',\n",
       " 'splitlines',\n",
       " 'startswith',\n",
       " 'strip',\n",
       " 'swapcase',\n",
       " 'title',\n",
       " 'translate',\n",
       " 'upper',\n",
       " 'zfill']"
      ]
     },
     "execution_count": 31,
     "metadata": {},
     "output_type": "execute_result"
    }
   ],
   "source": [
    "dir(str3)\n"
   ]
  },
  {
   "cell_type": "code",
   "execution_count": 32,
   "metadata": {
    "ExecuteTime": {
     "end_time": "2020-03-01T15:13:00.999467Z",
     "start_time": "2020-03-01T15:13:00.986949Z"
    }
   },
   "outputs": [
    {
     "data": {
      "text/plain": [
       "'to'"
      ]
     },
     "execution_count": 32,
     "metadata": {},
     "output_type": "execute_result"
    }
   ],
   "source": [
    "str2"
   ]
  },
  {
   "cell_type": "code",
   "execution_count": 33,
   "metadata": {
    "ExecuteTime": {
     "end_time": "2020-03-01T15:13:01.012947Z",
     "start_time": "2020-03-01T15:13:01.002914Z"
    }
   },
   "outputs": [
    {
     "data": {
      "text/plain": [
       "'To'"
      ]
     },
     "execution_count": 33,
     "metadata": {},
     "output_type": "execute_result"
    }
   ],
   "source": [
    "str2.capitalize()"
   ]
  },
  {
   "cell_type": "code",
   "execution_count": 34,
   "metadata": {
    "ExecuteTime": {
     "end_time": "2020-03-01T15:13:01.024604Z",
     "start_time": "2020-03-01T15:13:01.016742Z"
    }
   },
   "outputs": [
    {
     "data": {
      "text/plain": [
       "'Edureka'"
      ]
     },
     "execution_count": 34,
     "metadata": {},
     "output_type": "execute_result"
    }
   ],
   "source": [
    "str3"
   ]
  },
  {
   "cell_type": "code",
   "execution_count": 35,
   "metadata": {
    "ExecuteTime": {
     "end_time": "2020-03-01T15:13:01.039938Z",
     "start_time": "2020-03-01T15:13:01.028047Z"
    }
   },
   "outputs": [
    {
     "data": {
      "text/plain": [
       "'upper case'"
      ]
     },
     "execution_count": 35,
     "metadata": {},
     "output_type": "execute_result"
    }
   ],
   "source": [
    "str4.lower()"
   ]
  },
  {
   "cell_type": "code",
   "execution_count": 36,
   "metadata": {
    "ExecuteTime": {
     "end_time": "2020-03-01T15:13:01.055335Z",
     "start_time": "2020-03-01T15:13:01.043335Z"
    }
   },
   "outputs": [
    {
     "data": {
      "text/plain": [
       "False"
      ]
     },
     "execution_count": 36,
     "metadata": {},
     "output_type": "execute_result"
    }
   ],
   "source": [
    "str1.islower()"
   ]
  },
  {
   "cell_type": "code",
   "execution_count": 37,
   "metadata": {
    "ExecuteTime": {
     "end_time": "2020-03-01T15:13:01.070905Z",
     "start_time": "2020-03-01T15:13:01.058613Z"
    }
   },
   "outputs": [
    {
     "data": {
      "text/plain": [
       "'welCOme'"
      ]
     },
     "execution_count": 37,
     "metadata": {},
     "output_type": "execute_result"
    }
   ],
   "source": [
    "str1"
   ]
  },
  {
   "cell_type": "code",
   "execution_count": 38,
   "metadata": {
    "ExecuteTime": {
     "end_time": "2020-03-01T15:13:01.089099Z",
     "start_time": "2020-03-01T15:13:01.076447Z"
    }
   },
   "outputs": [
    {
     "data": {
      "text/plain": [
       "'EDUREKA'"
      ]
     },
     "execution_count": 38,
     "metadata": {},
     "output_type": "execute_result"
    }
   ],
   "source": [
    "str3.upper()"
   ]
  },
  {
   "cell_type": "code",
   "execution_count": 39,
   "metadata": {
    "ExecuteTime": {
     "end_time": "2020-03-01T15:13:01.117021Z",
     "start_time": "2020-03-01T15:13:01.098678Z"
    }
   },
   "outputs": [
    {
     "data": {
      "text/plain": [
       "'Edureka'"
      ]
     },
     "execution_count": 39,
     "metadata": {},
     "output_type": "execute_result"
    }
   ],
   "source": [
    "str3"
   ]
  },
  {
   "cell_type": "code",
   "execution_count": 40,
   "metadata": {
    "ExecuteTime": {
     "end_time": "2020-03-01T15:13:01.130181Z",
     "start_time": "2020-03-01T15:13:01.120774Z"
    }
   },
   "outputs": [
    {
     "data": {
      "text/plain": [
       "True"
      ]
     },
     "execution_count": 40,
     "metadata": {},
     "output_type": "execute_result"
    }
   ],
   "source": [
    "str3.startswith('E')"
   ]
  },
  {
   "cell_type": "code",
   "execution_count": 41,
   "metadata": {
    "ExecuteTime": {
     "end_time": "2020-03-01T15:13:01.142883Z",
     "start_time": "2020-03-01T15:13:01.133609Z"
    }
   },
   "outputs": [
    {
     "data": {
      "text/plain": [
       "'wEdurekaeEdurekalEdurekaCEdurekaOEdurekamEdurekae'"
      ]
     },
     "execution_count": 41,
     "metadata": {},
     "output_type": "execute_result"
    }
   ],
   "source": [
    "str3.join(str1)"
   ]
  },
  {
   "cell_type": "code",
   "execution_count": 42,
   "metadata": {
    "ExecuteTime": {
     "end_time": "2020-03-01T15:13:01.160184Z",
     "start_time": "2020-03-01T15:13:01.145839Z"
    }
   },
   "outputs": [
    {
     "data": {
      "text/plain": [
       "'E%d%u%r%e%k%a'"
      ]
     },
     "execution_count": 42,
     "metadata": {},
     "output_type": "execute_result"
    }
   ],
   "source": [
    "'%'.join(str3)"
   ]
  },
  {
   "cell_type": "code",
   "execution_count": 43,
   "metadata": {
    "ExecuteTime": {
     "end_time": "2020-03-01T15:13:01.171329Z",
     "start_time": "2020-03-01T15:13:01.164435Z"
    }
   },
   "outputs": [
    {
     "name": "stdout",
     "output_type": "stream",
     "text": [
      "The first string is : welCOme, the second string's value is to, the third string is Edureka and the last one is UPPER CASE\n"
     ]
    }
   ],
   "source": [
    "print('The first string is : {}, the second string\\'s value is {}, the third string is {} and the last one is {}'.format(str1,str2,str3,str4))"
   ]
  },
  {
   "cell_type": "code",
   "execution_count": 44,
   "metadata": {
    "ExecuteTime": {
     "end_time": "2020-03-01T15:13:01.228494Z",
     "start_time": "2020-03-01T15:13:01.174869Z"
    }
   },
   "outputs": [
    {
     "name": "stdout",
     "output_type": "stream",
     "text": [
      "{'T', 'l', 'E', 'r', ' ', 'm', 'd', 'k', 'c', 'a', 'e', 'u', 'W', 'o'}\n",
      "{1, 2, 3, 4, 5, 6}\n",
      "{3, 4}\n",
      "{1, 2, 3}\n",
      "{'e', 'd', 'c', 'a', 'b', 'v', 'o'}\n",
      "{'a', 'd', 'o'}\n",
      "{'v', 'b'}\n",
      "True\n",
      "True\n",
      "True\n",
      "True\n",
      "{'a', 1, 2, 3, 'b'}\n",
      "{'a', 1, 'b'}\n",
      "{2, 3}\n",
      "{2, 3}\n",
      "{1, 2, 3, 'c', 'a', 'b'}\n",
      "{2, 3, 'c', 'a', 'b'}\n",
      "{2, 'c', 'a', 'b'}\n",
      "{'c', 'a', 'b'}\n",
      "set()\n"
     ]
    }
   ],
   "source": [
    "X=set('Welcome To Edureka')\n",
    "print(X)\n",
    "\n",
    "A={1,2,3,4}\n",
    "B={3,4,5,6}\n",
    "print(A|B)\n",
    "print(A&B)\n",
    "\n",
    "A={1,2,3,4,5}\n",
    "B={4,5,6,7,8}\n",
    "print(A-B)\n",
    "\n",
    "s={'a','b','c','d','e','f','o','v'}\n",
    "set1={'a','b','d','o','v'}\n",
    "set2={'a','c','d','o','e'}\n",
    "print(set1|set2)\n",
    "print(set1&set2)\n",
    "print(set1-set2)\n",
    "\n",
    "#add\n",
    "\n",
    "s={1,2,3,'a','b'}\n",
    "set1={1,'a','b'}\n",
    "print(1 in s)\n",
    "\n",
    "print(set1.issubset(s))\n",
    "\n",
    "print(5 not in s)\n",
    "\n",
    "print(s.issuperset(set1))\n",
    "\n",
    "print(s.union(set1))\n",
    "\n",
    "print(s.intersection(set1))\n",
    "\n",
    "print(s.difference(set1))\n",
    "\n",
    "print(s.symmetric_difference(set1))\n",
    "\n",
    "\n",
    "s={1,2,3,'a','b'}\n",
    "s.add('c')\n",
    "print(s)\n",
    "\n",
    "s.remove(1)\n",
    "print(s)\n",
    "\n",
    "s.discard(3)\n",
    "print(s)\n",
    "\n",
    "s.pop()\n",
    "print(s)\n",
    "\n",
    "s.clear()\n",
    "print(s)"
   ]
  },
  {
   "cell_type": "code",
   "execution_count": 45,
   "metadata": {
    "ExecuteTime": {
     "end_time": "2020-03-01T15:13:01.253226Z",
     "start_time": "2020-03-01T15:13:01.233401Z"
    }
   },
   "outputs": [
    {
     "name": "stdout",
     "output_type": "stream",
     "text": [
      "{'T', 'l', 'E', 'r', ' ', 'm', 'd', 'k', 'c', 'a', 'e', 'u', 'W', 'o'}\n"
     ]
    },
    {
     "data": {
      "text/plain": [
       "'\\n'"
      ]
     },
     "execution_count": 45,
     "metadata": {},
     "output_type": "execute_result"
    }
   ],
   "source": [
    "X=set('Welcome To Edureka')\n",
    "print(X)\n",
    "'''\n",
    "'''"
   ]
  },
  {
   "cell_type": "code",
   "execution_count": 46,
   "metadata": {
    "ExecuteTime": {
     "end_time": "2020-03-01T15:13:01.278035Z",
     "start_time": "2020-03-01T15:13:01.259929Z"
    }
   },
   "outputs": [
    {
     "name": "stdout",
     "output_type": "stream",
     "text": [
      "{1, 2, 3, 4, 5, 6}\n",
      "{3, 4}\n"
     ]
    }
   ],
   "source": [
    "A={1,2,3,4}\n",
    "B={3,4,5,6}\n",
    "print(A|B)\n",
    "print(A&B)\n"
   ]
  },
  {
   "cell_type": "code",
   "execution_count": 47,
   "metadata": {
    "ExecuteTime": {
     "end_time": "2020-03-01T15:13:01.303922Z",
     "start_time": "2020-03-01T15:13:01.286555Z"
    }
   },
   "outputs": [
    {
     "name": "stdout",
     "output_type": "stream",
     "text": [
      "{'e', 'd', 'c', 'a', 'b', 'v', 'o'}\n",
      "{'a', 'd', 'o'}\n",
      "{'v', 'b'}\n",
      "{'e', 'c'}\n",
      "{'A', 'B', 'f', 'd', 'v', 'c', 'a', 'C', 'b', 'e', 'o'}\n"
     ]
    }
   ],
   "source": [
    "s={'A','B','C','d','e','f','o','v','a','b','c','d','e','f','o','v','a','b','c','d','e','f','o','v'}\n",
    "list1 = ['A','B','C','d','e','f','o','v','a','b','c','d','e','f','o','v','a','b','c','d','e','f','o','v']\n",
    "set1={'a','b','d','o','v'}\n",
    "set2={'a','c','d','o','e'}\n",
    "print(set1|set2)\n",
    "print(set1&set2)\n",
    "print(set1-set2)\n",
    "print(set2-set1)\n",
    "print(s)"
   ]
  },
  {
   "cell_type": "code",
   "execution_count": 48,
   "metadata": {
    "ExecuteTime": {
     "end_time": "2020-03-01T15:13:01.353075Z",
     "start_time": "2020-03-01T15:13:01.308172Z"
    }
   },
   "outputs": [
    {
     "data": {
      "text/plain": [
       "True"
      ]
     },
     "execution_count": 48,
     "metadata": {},
     "output_type": "execute_result"
    }
   ],
   "source": [
    "'c' in set2"
   ]
  },
  {
   "cell_type": "code",
   "execution_count": 49,
   "metadata": {
    "ExecuteTime": {
     "end_time": "2020-03-01T15:13:01.417971Z",
     "start_time": "2020-03-01T15:13:01.359447Z"
    }
   },
   "outputs": [
    {
     "name": "stdout",
     "output_type": "stream",
     "text": [
      "{'a', 1, 2, 3, 'b'}\n",
      "{'a', 1, 'b'}\n",
      "{2, 3}\n",
      "{2, 3}\n"
     ]
    }
   ],
   "source": [
    "s={1,2,3,'a','b'}\n",
    "set1={1,'a','b'}\n",
    "#print(1 in s)\n",
    "\n",
    "#print(set1.issubset(s))\n",
    "\n",
    "#print(5 not in s)\n",
    "\n",
    "#print(set1.issuperset(s))\n",
    "\n",
    "print(s.union(set1))\n",
    "\n",
    "print(s.intersection(set1))\n",
    "\n",
    "print(s.difference(set1))\n",
    "\n",
    "print(s.symmetric_difference(set1))"
   ]
  },
  {
   "cell_type": "code",
   "execution_count": 50,
   "metadata": {
    "ExecuteTime": {
     "end_time": "2020-03-01T15:13:01.429932Z",
     "start_time": "2020-03-01T15:13:01.420844Z"
    }
   },
   "outputs": [],
   "source": [
    "employees = {'emp_id' : [1,2,3,4,5,6],\n",
    "             'name' : ['Anubhav','Lalo','Aheli','Sandeep','Vikas','Mark']\n",
    "    \n",
    "}"
   ]
  },
  {
   "cell_type": "code",
   "execution_count": 51,
   "metadata": {
    "ExecuteTime": {
     "end_time": "2020-03-01T15:13:01.457102Z",
     "start_time": "2020-03-01T15:13:01.434980Z"
    }
   },
   "outputs": [
    {
     "data": {
      "text/plain": [
       "['__class__',\n",
       " '__contains__',\n",
       " '__delattr__',\n",
       " '__delitem__',\n",
       " '__dir__',\n",
       " '__doc__',\n",
       " '__eq__',\n",
       " '__format__',\n",
       " '__ge__',\n",
       " '__getattribute__',\n",
       " '__getitem__',\n",
       " '__gt__',\n",
       " '__hash__',\n",
       " '__init__',\n",
       " '__init_subclass__',\n",
       " '__iter__',\n",
       " '__le__',\n",
       " '__len__',\n",
       " '__lt__',\n",
       " '__ne__',\n",
       " '__new__',\n",
       " '__reduce__',\n",
       " '__reduce_ex__',\n",
       " '__repr__',\n",
       " '__setattr__',\n",
       " '__setitem__',\n",
       " '__sizeof__',\n",
       " '__str__',\n",
       " '__subclasshook__',\n",
       " 'clear',\n",
       " 'copy',\n",
       " 'fromkeys',\n",
       " 'get',\n",
       " 'items',\n",
       " 'keys',\n",
       " 'pop',\n",
       " 'popitem',\n",
       " 'setdefault',\n",
       " 'update',\n",
       " 'values']"
      ]
     },
     "execution_count": 51,
     "metadata": {},
     "output_type": "execute_result"
    }
   ],
   "source": [
    "dir(employees)"
   ]
  },
  {
   "cell_type": "code",
   "execution_count": 52,
   "metadata": {
    "ExecuteTime": {
     "end_time": "2020-03-01T15:13:01.495001Z",
     "start_time": "2020-03-01T15:13:01.479983Z"
    }
   },
   "outputs": [
    {
     "data": {
      "text/plain": [
       "dict_keys(['emp_id', 'name'])"
      ]
     },
     "execution_count": 52,
     "metadata": {},
     "output_type": "execute_result"
    }
   ],
   "source": [
    "employees.keys()"
   ]
  },
  {
   "cell_type": "code",
   "execution_count": 53,
   "metadata": {
    "ExecuteTime": {
     "end_time": "2020-03-01T15:13:01.510328Z",
     "start_time": "2020-03-01T15:13:01.499274Z"
    }
   },
   "outputs": [
    {
     "data": {
      "text/plain": [
       "dict_values([[1, 2, 3, 4, 5, 6], ['Anubhav', 'Lalo', 'Aheli', 'Sandeep', 'Vikas', 'Mark']])"
      ]
     },
     "execution_count": 53,
     "metadata": {},
     "output_type": "execute_result"
    }
   ],
   "source": [
    "employees.values()"
   ]
  },
  {
   "cell_type": "code",
   "execution_count": 54,
   "metadata": {
    "ExecuteTime": {
     "end_time": "2020-03-01T15:13:01.525721Z",
     "start_time": "2020-03-01T15:13:01.515131Z"
    }
   },
   "outputs": [
    {
     "data": {
      "text/plain": [
       "dict_items([('emp_id', [1, 2, 3, 4, 5, 6]), ('name', ['Anubhav', 'Lalo', 'Aheli', 'Sandeep', 'Vikas', 'Mark'])])"
      ]
     },
     "execution_count": 54,
     "metadata": {},
     "output_type": "execute_result"
    }
   ],
   "source": [
    "employees.items()"
   ]
  },
  {
   "cell_type": "code",
   "execution_count": 55,
   "metadata": {
    "ExecuteTime": {
     "end_time": "2020-03-01T15:13:01.539185Z",
     "start_time": "2020-03-01T15:13:01.531088Z"
    }
   },
   "outputs": [],
   "source": [
    "name_set = set(employees.get('name'))"
   ]
  },
  {
   "cell_type": "code",
   "execution_count": 56,
   "metadata": {
    "ExecuteTime": {
     "end_time": "2020-03-01T15:13:01.561297Z",
     "start_time": "2020-03-01T15:13:01.550680Z"
    }
   },
   "outputs": [
    {
     "data": {
      "text/plain": [
       "{'Aheli', 'Anubhav', 'Lalo', 'Mark', 'Sandeep', 'Vikas'}"
      ]
     },
     "execution_count": 56,
     "metadata": {},
     "output_type": "execute_result"
    }
   ],
   "source": [
    "name_set"
   ]
  },
  {
   "cell_type": "code",
   "execution_count": 57,
   "metadata": {
    "ExecuteTime": {
     "end_time": "2020-03-01T15:13:01.636502Z",
     "start_time": "2020-03-01T15:13:01.626990Z"
    }
   },
   "outputs": [
    {
     "data": {
      "text/plain": [
       "True"
      ]
     },
     "execution_count": 57,
     "metadata": {},
     "output_type": "execute_result"
    }
   ],
   "source": [
    "'Lalo' in name_set"
   ]
  },
  {
   "cell_type": "code",
   "execution_count": 58,
   "metadata": {
    "ExecuteTime": {
     "end_time": "2020-03-01T15:13:01.649251Z",
     "start_time": "2020-03-01T15:13:01.640481Z"
    }
   },
   "outputs": [
    {
     "data": {
      "text/plain": [
       "True"
      ]
     },
     "execution_count": 58,
     "metadata": {},
     "output_type": "execute_result"
    }
   ],
   "source": [
    "'L' in employees.get('name')[1]"
   ]
  },
  {
   "cell_type": "code",
   "execution_count": 59,
   "metadata": {
    "ExecuteTime": {
     "end_time": "2020-03-01T15:13:01.674339Z",
     "start_time": "2020-03-01T15:13:01.657385Z"
    }
   },
   "outputs": [
    {
     "data": {
      "text/plain": [
       "False"
      ]
     },
     "execution_count": 59,
     "metadata": {},
     "output_type": "execute_result"
    }
   ],
   "source": [
    "employees['emp_id'] == 2"
   ]
  },
  {
   "cell_type": "code",
   "execution_count": 60,
   "metadata": {
    "ExecuteTime": {
     "end_time": "2020-03-01T15:13:01.695309Z",
     "start_time": "2020-03-01T15:13:01.679196Z"
    }
   },
   "outputs": [
    {
     "name": "stdout",
     "output_type": "stream",
     "text": [
      "1\n",
      "2\n",
      "3\n",
      "4\n",
      "5\n",
      "6\n",
      "720\n"
     ]
    }
   ],
   "source": [
    "fact = 1\n",
    "for i in range(1,7):\n",
    "    fact*=i\n",
    "    print(i)\n",
    "print(fact)"
   ]
  },
  {
   "cell_type": "code",
   "execution_count": 61,
   "metadata": {
    "ExecuteTime": {
     "end_time": "2020-03-01T15:13:01.737143Z",
     "start_time": "2020-03-01T15:13:01.709803Z"
    }
   },
   "outputs": [
    {
     "name": "stdout",
     "output_type": "stream",
     "text": [
      "1\n",
      "2\n",
      "3\n",
      "4\n",
      "5\n",
      "6\n",
      "7\n",
      "8\n",
      "9\n",
      "362880\n"
     ]
    }
   ],
   "source": [
    "fact = 1\n",
    "for i in range(1,10):\n",
    "    fact*=i\n",
    "    print(i)\n",
    "print(fact)"
   ]
  },
  {
   "cell_type": "code",
   "execution_count": 62,
   "metadata": {
    "ExecuteTime": {
     "end_time": "2020-03-01T15:13:01.750507Z",
     "start_time": "2020-03-01T15:13:01.742656Z"
    }
   },
   "outputs": [],
   "source": [
    "def fn_fact(n):\n",
    "    fact=1\n",
    "    for i in range(1,n+1):\n",
    "        fact*=i\n",
    "    return fact, fact**2, fact**0.5\n"
   ]
  },
  {
   "cell_type": "code",
   "execution_count": 63,
   "metadata": {
    "ExecuteTime": {
     "end_time": "2020-03-01T15:13:01.761576Z",
     "start_time": "2020-03-01T15:13:01.754129Z"
    }
   },
   "outputs": [],
   "source": [
    "fact_of_5, sqr_fact_of_5, sqrt_fact_of_5 = fn_fact(5)\n"
   ]
  },
  {
   "cell_type": "code",
   "execution_count": 64,
   "metadata": {
    "ExecuteTime": {
     "end_time": "2020-03-01T15:13:01.782142Z",
     "start_time": "2020-03-01T15:13:01.765897Z"
    }
   },
   "outputs": [
    {
     "data": {
      "text/plain": [
       "362880"
      ]
     },
     "execution_count": 64,
     "metadata": {},
     "output_type": "execute_result"
    }
   ],
   "source": [
    "fact"
   ]
  },
  {
   "cell_type": "code",
   "execution_count": 65,
   "metadata": {
    "ExecuteTime": {
     "end_time": "2020-03-01T15:13:01.839240Z",
     "start_time": "2020-03-01T15:13:01.802086Z"
    }
   },
   "outputs": [
    {
     "data": {
      "text/plain": [
       "120"
      ]
     },
     "execution_count": 65,
     "metadata": {},
     "output_type": "execute_result"
    }
   ],
   "source": [
    "fact_of_5"
   ]
  },
  {
   "cell_type": "code",
   "execution_count": 66,
   "metadata": {
    "ExecuteTime": {
     "end_time": "2020-03-01T15:13:01.865173Z",
     "start_time": "2020-03-01T15:13:01.852368Z"
    }
   },
   "outputs": [
    {
     "data": {
      "text/plain": [
       "14400"
      ]
     },
     "execution_count": 66,
     "metadata": {},
     "output_type": "execute_result"
    }
   ],
   "source": [
    "sqr_fact_of_5"
   ]
  },
  {
   "cell_type": "code",
   "execution_count": 67,
   "metadata": {
    "ExecuteTime": {
     "end_time": "2020-03-01T15:13:01.887529Z",
     "start_time": "2020-03-01T15:13:01.871408Z"
    }
   },
   "outputs": [
    {
     "data": {
      "text/plain": [
       "10.954451150103322"
      ]
     },
     "execution_count": 67,
     "metadata": {},
     "output_type": "execute_result"
    }
   ],
   "source": [
    "sqrt_fact_of_5"
   ]
  },
  {
   "cell_type": "code",
   "execution_count": 68,
   "metadata": {
    "ExecuteTime": {
     "end_time": "2020-03-01T15:13:01.898622Z",
     "start_time": "2020-03-01T15:13:01.891498Z"
    }
   },
   "outputs": [],
   "source": [
    "#fn_fact(1,2)"
   ]
  },
  {
   "cell_type": "code",
   "execution_count": 69,
   "metadata": {
    "ExecuteTime": {
     "end_time": "2020-03-01T15:13:01.913341Z",
     "start_time": "2020-03-01T15:13:01.902741Z"
    }
   },
   "outputs": [
    {
     "data": {
      "text/plain": [
       "['__annotations__',\n",
       " '__call__',\n",
       " '__class__',\n",
       " '__closure__',\n",
       " '__code__',\n",
       " '__defaults__',\n",
       " '__delattr__',\n",
       " '__dict__',\n",
       " '__dir__',\n",
       " '__doc__',\n",
       " '__eq__',\n",
       " '__format__',\n",
       " '__ge__',\n",
       " '__get__',\n",
       " '__getattribute__',\n",
       " '__globals__',\n",
       " '__gt__',\n",
       " '__hash__',\n",
       " '__init__',\n",
       " '__init_subclass__',\n",
       " '__kwdefaults__',\n",
       " '__le__',\n",
       " '__lt__',\n",
       " '__module__',\n",
       " '__name__',\n",
       " '__ne__',\n",
       " '__new__',\n",
       " '__qualname__',\n",
       " '__reduce__',\n",
       " '__reduce_ex__',\n",
       " '__repr__',\n",
       " '__setattr__',\n",
       " '__sizeof__',\n",
       " '__str__',\n",
       " '__subclasshook__']"
      ]
     },
     "execution_count": 69,
     "metadata": {},
     "output_type": "execute_result"
    }
   ],
   "source": [
    "dir(fn_fact)"
   ]
  },
  {
   "cell_type": "code",
   "execution_count": 70,
   "metadata": {
    "ExecuteTime": {
     "end_time": "2020-03-01T15:13:01.926830Z",
     "start_time": "2020-03-01T15:13:01.915885Z"
    }
   },
   "outputs": [
    {
     "name": "stdout",
     "output_type": "stream",
     "text": [
      "<class 'enumerate'>\n",
      "[(0, 'bread'), (1, 'milk'), (2, 'butter')]\n",
      "[(10, 'bread'), (11, 'milk'), (12, 'butter')]\n"
     ]
    }
   ],
   "source": [
    "grocery = ['bread', 'milk', 'butter']\n",
    "enumerateGrocery = enumerate(grocery)\n",
    "\n",
    "print(type(enumerateGrocery))\n",
    "\n",
    "# converting to list\n",
    "print(list(enumerateGrocery))\n",
    "\n",
    "# changing the default counter\n",
    "enumerateGrocery = enumerate(grocery, 10)\n",
    "print(list(enumerateGrocery))\n"
   ]
  },
  {
   "cell_type": "code",
   "execution_count": 71,
   "metadata": {
    "ExecuteTime": {
     "end_time": "2020-03-01T15:13:01.969580Z",
     "start_time": "2020-03-01T15:13:01.931464Z"
    }
   },
   "outputs": [],
   "source": [
    "grocery = ['bread', 'milk', 'butter']\n",
    "enumerateGrocery = enumerate(grocery)\n"
   ]
  },
  {
   "cell_type": "code",
   "execution_count": 72,
   "metadata": {
    "ExecuteTime": {
     "end_time": "2020-03-01T15:13:01.998033Z",
     "start_time": "2020-03-01T15:13:01.989625Z"
    }
   },
   "outputs": [
    {
     "name": "stdout",
     "output_type": "stream",
     "text": [
      "0\n",
      "1\n",
      "2\n"
     ]
    }
   ],
   "source": [
    "for set_of_items in enumerateGrocery:\n",
    "    print(set_of_items[0])"
   ]
  },
  {
   "cell_type": "code",
   "execution_count": 73,
   "metadata": {
    "ExecuteTime": {
     "end_time": "2020-03-01T15:13:02.018106Z",
     "start_time": "2020-03-01T15:13:02.008027Z"
    }
   },
   "outputs": [
    {
     "data": {
      "text/plain": [
       "[0,\n",
       " 1,\n",
       " 2,\n",
       " 3,\n",
       " 4,\n",
       " 5,\n",
       " 6,\n",
       " 7,\n",
       " 8,\n",
       " 9,\n",
       " 10,\n",
       " 11,\n",
       " 12,\n",
       " 13,\n",
       " 14,\n",
       " 15,\n",
       " 16,\n",
       " 17,\n",
       " 18,\n",
       " 19,\n",
       " 20,\n",
       " 21,\n",
       " 22,\n",
       " 23,\n",
       " 24,\n",
       " 25,\n",
       " 26,\n",
       " 27,\n",
       " 28,\n",
       " 29,\n",
       " 30,\n",
       " 31,\n",
       " 32,\n",
       " 33,\n",
       " 34,\n",
       " 35,\n",
       " 36,\n",
       " 37,\n",
       " 38,\n",
       " 39,\n",
       " 40,\n",
       " 41,\n",
       " 42,\n",
       " 43,\n",
       " 44,\n",
       " 45,\n",
       " 46,\n",
       " 47,\n",
       " 48,\n",
       " 49,\n",
       " 50,\n",
       " 51,\n",
       " 52,\n",
       " 53,\n",
       " 54,\n",
       " 55,\n",
       " 56,\n",
       " 57,\n",
       " 58,\n",
       " 59,\n",
       " 60,\n",
       " 61,\n",
       " 62,\n",
       " 63,\n",
       " 64,\n",
       " 65,\n",
       " 66,\n",
       " 67,\n",
       " 68,\n",
       " 69,\n",
       " 70,\n",
       " 71,\n",
       " 72,\n",
       " 73,\n",
       " 74,\n",
       " 75,\n",
       " 76,\n",
       " 77,\n",
       " 78,\n",
       " 79,\n",
       " 80,\n",
       " 81,\n",
       " 82,\n",
       " 83,\n",
       " 84,\n",
       " 85,\n",
       " 86,\n",
       " 87,\n",
       " 88,\n",
       " 89,\n",
       " 90,\n",
       " 91,\n",
       " 92,\n",
       " 93,\n",
       " 94,\n",
       " 95,\n",
       " 96,\n",
       " 97,\n",
       " 98,\n",
       " 99]"
      ]
     },
     "execution_count": 73,
     "metadata": {},
     "output_type": "execute_result"
    }
   ],
   "source": [
    "list1= list(range(0,100))\n",
    "list2 = ['Apple','banana','oRanges','GRAPES']\n",
    "list1\n"
   ]
  },
  {
   "cell_type": "code",
   "execution_count": 74,
   "metadata": {
    "ExecuteTime": {
     "end_time": "2020-03-01T15:13:02.027760Z",
     "start_time": "2020-03-01T15:13:02.022950Z"
    }
   },
   "outputs": [],
   "source": [
    "#list(map(lambda x:x**2, list1))\n",
    "#list1**2\n"
   ]
  },
  {
   "cell_type": "code",
   "execution_count": 75,
   "metadata": {
    "ExecuteTime": {
     "end_time": "2020-03-01T15:13:02.042328Z",
     "start_time": "2020-03-01T15:13:02.031408Z"
    }
   },
   "outputs": [
    {
     "data": {
      "text/plain": [
       "4950"
      ]
     },
     "execution_count": 75,
     "metadata": {},
     "output_type": "execute_result"
    }
   ],
   "source": [
    "from functools import reduce\n",
    "reduce(lambda x,y: x+y, list1)"
   ]
  },
  {
   "cell_type": "code",
   "execution_count": 76,
   "metadata": {
    "ExecuteTime": {
     "end_time": "2020-03-01T15:13:02.062222Z",
     "start_time": "2020-03-01T15:13:02.048526Z"
    }
   },
   "outputs": [
    {
     "data": {
      "text/plain": [
       "['Apple', 'Banana', 'Oranges', 'Grapes']"
      ]
     },
     "execution_count": 76,
     "metadata": {},
     "output_type": "execute_result"
    }
   ],
   "source": [
    "list(map(lambda x:x.capitalize(),list2))"
   ]
  },
  {
   "cell_type": "code",
   "execution_count": 77,
   "metadata": {
    "ExecuteTime": {
     "end_time": "2020-03-01T15:13:02.087780Z",
     "start_time": "2020-03-01T15:13:02.071781Z"
    }
   },
   "outputs": [
    {
     "data": {
      "text/plain": [
       "[0,\n",
       " 1,\n",
       " 2,\n",
       " 3,\n",
       " 4,\n",
       " 5,\n",
       " 6,\n",
       " 7,\n",
       " 8,\n",
       " 9,\n",
       " 10,\n",
       " 11,\n",
       " 12,\n",
       " 13,\n",
       " 14,\n",
       " 15,\n",
       " 16,\n",
       " 17,\n",
       " 18,\n",
       " 19,\n",
       " 20,\n",
       " 21,\n",
       " 22,\n",
       " 23,\n",
       " 24,\n",
       " 25,\n",
       " 26,\n",
       " 27,\n",
       " 28,\n",
       " 29,\n",
       " 30,\n",
       " 31,\n",
       " 32,\n",
       " 33,\n",
       " 34,\n",
       " 35,\n",
       " 36,\n",
       " 37,\n",
       " 38,\n",
       " 39,\n",
       " 40,\n",
       " 41,\n",
       " 42,\n",
       " 43,\n",
       " 44,\n",
       " 45,\n",
       " 46,\n",
       " 47,\n",
       " 48,\n",
       " 49,\n",
       " 50,\n",
       " 51,\n",
       " 52,\n",
       " 53,\n",
       " 54,\n",
       " 55,\n",
       " 56,\n",
       " 57,\n",
       " 58,\n",
       " 59,\n",
       " 60,\n",
       " 61,\n",
       " 62,\n",
       " 63,\n",
       " 64,\n",
       " 65,\n",
       " 66,\n",
       " 67,\n",
       " 68,\n",
       " 69,\n",
       " 70,\n",
       " 71,\n",
       " 72,\n",
       " 73,\n",
       " 74,\n",
       " 75,\n",
       " 76,\n",
       " 77,\n",
       " 78,\n",
       " 79,\n",
       " 80,\n",
       " 81,\n",
       " 82,\n",
       " 83,\n",
       " 84,\n",
       " 85,\n",
       " 86,\n",
       " 87,\n",
       " 88,\n",
       " 89,\n",
       " 90,\n",
       " 91,\n",
       " 92,\n",
       " 93,\n",
       " 94,\n",
       " 95,\n",
       " 96,\n",
       " 97,\n",
       " 98,\n",
       " 99]"
      ]
     },
     "execution_count": 77,
     "metadata": {},
     "output_type": "execute_result"
    }
   ],
   "source": [
    "list1"
   ]
  },
  {
   "cell_type": "code",
   "execution_count": 78,
   "metadata": {
    "ExecuteTime": {
     "end_time": "2020-03-01T15:13:02.102919Z",
     "start_time": "2020-03-01T15:13:02.092045Z"
    }
   },
   "outputs": [],
   "source": [
    "def add_emp(name,age,id1,*app_score):\n",
    "    print(id1)\n",
    "    print('{}\\'s age is {}'.format(name,age))\n",
    "    print(app_score)\n",
    "    \n",
    "     \n",
    "    "
   ]
  },
  {
   "cell_type": "code",
   "execution_count": 79,
   "metadata": {
    "ExecuteTime": {
     "end_time": "2020-03-01T15:13:02.114756Z",
     "start_time": "2020-03-01T15:13:02.110227Z"
    }
   },
   "outputs": [],
   "source": [
    "#add_emp('Anubhav',30)"
   ]
  },
  {
   "cell_type": "code",
   "execution_count": 80,
   "metadata": {
    "ExecuteTime": {
     "end_time": "2020-03-01T15:13:02.133721Z",
     "start_time": "2020-03-01T15:13:02.124398Z"
    }
   },
   "outputs": [
    {
     "name": "stdout",
     "output_type": "stream",
     "text": [
      "545\n",
      "Sakshi's age is 25\n",
      "()\n"
     ]
    }
   ],
   "source": [
    "add_emp(age=25,name='Sakshi',id1=545)"
   ]
  },
  {
   "cell_type": "code",
   "execution_count": 81,
   "metadata": {
    "ExecuteTime": {
     "end_time": "2020-03-01T15:13:02.178037Z",
     "start_time": "2020-03-01T15:13:02.162265Z"
    }
   },
   "outputs": [
    {
     "name": "stdout",
     "output_type": "stream",
     "text": [
      "126\n",
      "John's age is 28\n",
      "(7.8, 8, 8.5)\n"
     ]
    }
   ],
   "source": [
    "add_emp('John',28,126,7.8,8,8.5)"
   ]
  },
  {
   "cell_type": "code",
   "execution_count": 82,
   "metadata": {
    "ExecuteTime": {
     "end_time": "2020-03-01T15:13:02.265075Z",
     "start_time": "2020-03-01T15:13:02.184441Z"
    }
   },
   "outputs": [
    {
     "data": {
      "text/plain": [
       "True"
      ]
     },
     "execution_count": 82,
     "metadata": {},
     "output_type": "execute_result"
    }
   ],
   "source": [
    "list1.__contains__(56)"
   ]
  },
  {
   "cell_type": "code",
   "execution_count": 83,
   "metadata": {
    "ExecuteTime": {
     "end_time": "2020-03-01T15:13:02.294421Z",
     "start_time": "2020-03-01T15:13:02.279251Z"
    }
   },
   "outputs": [
    {
     "data": {
      "text/plain": [
       "[5,\n",
       " 7,\n",
       " 9,\n",
       " 11,\n",
       " 13,\n",
       " 15,\n",
       " 17,\n",
       " 19,\n",
       " 21,\n",
       " 23,\n",
       " 25,\n",
       " 27,\n",
       " 29,\n",
       " 31,\n",
       " 33,\n",
       " 35,\n",
       " 37,\n",
       " 39,\n",
       " 41,\n",
       " 43,\n",
       " 45,\n",
       " 47,\n",
       " 49,\n",
       " 51,\n",
       " 53,\n",
       " 55,\n",
       " 57,\n",
       " 59]"
      ]
     },
     "execution_count": 83,
     "metadata": {},
     "output_type": "execute_result"
    }
   ],
   "source": [
    "list1[5:61:2]"
   ]
  },
  {
   "cell_type": "code",
   "execution_count": 84,
   "metadata": {
    "ExecuteTime": {
     "end_time": "2020-03-01T15:13:02.336464Z",
     "start_time": "2020-03-01T15:13:02.300326Z"
    }
   },
   "outputs": [
    {
     "data": {
      "text/plain": [
       "[0, 1, 2, 3, 4]"
      ]
     },
     "execution_count": 84,
     "metadata": {},
     "output_type": "execute_result"
    }
   ],
   "source": [
    "list1[:5]"
   ]
  },
  {
   "cell_type": "code",
   "execution_count": 85,
   "metadata": {
    "ExecuteTime": {
     "end_time": "2020-03-01T15:13:02.428754Z",
     "start_time": "2020-03-01T15:13:02.350764Z"
    }
   },
   "outputs": [
    {
     "data": {
      "text/plain": [
       "[0,\n",
       " 1,\n",
       " 2,\n",
       " 3,\n",
       " 4,\n",
       " 5,\n",
       " 6,\n",
       " 7,\n",
       " 8,\n",
       " 9,\n",
       " 10,\n",
       " 11,\n",
       " 12,\n",
       " 13,\n",
       " 14,\n",
       " 15,\n",
       " 16,\n",
       " 17,\n",
       " 18,\n",
       " 19,\n",
       " 20,\n",
       " 21,\n",
       " 22,\n",
       " 23,\n",
       " 24,\n",
       " 25,\n",
       " 26,\n",
       " 27,\n",
       " 28,\n",
       " 29,\n",
       " 30,\n",
       " 31,\n",
       " 32,\n",
       " 33,\n",
       " 34,\n",
       " 35,\n",
       " 36,\n",
       " 37,\n",
       " 38,\n",
       " 39,\n",
       " 40,\n",
       " 41,\n",
       " 42,\n",
       " 43,\n",
       " 44,\n",
       " 45,\n",
       " 46,\n",
       " 47,\n",
       " 48,\n",
       " 49,\n",
       " 50,\n",
       " 51,\n",
       " 52,\n",
       " 53,\n",
       " 54,\n",
       " 55,\n",
       " 56,\n",
       " 57,\n",
       " 58,\n",
       " 59,\n",
       " 60,\n",
       " 61,\n",
       " 62,\n",
       " 63,\n",
       " 64,\n",
       " 65,\n",
       " 66,\n",
       " 67,\n",
       " 68,\n",
       " 69,\n",
       " 70,\n",
       " 71,\n",
       " 72,\n",
       " 73,\n",
       " 74,\n",
       " 75,\n",
       " 76,\n",
       " 77,\n",
       " 78,\n",
       " 79,\n",
       " 80,\n",
       " 81,\n",
       " 82,\n",
       " 83,\n",
       " 84,\n",
       " 85,\n",
       " 86,\n",
       " 87,\n",
       " 88,\n",
       " 89,\n",
       " 90,\n",
       " 91,\n",
       " 92,\n",
       " 93,\n",
       " 94]"
      ]
     },
     "execution_count": 85,
     "metadata": {},
     "output_type": "execute_result"
    }
   ],
   "source": [
    "list1[:-5]"
   ]
  },
  {
   "cell_type": "code",
   "execution_count": 86,
   "metadata": {
    "ExecuteTime": {
     "end_time": "2020-03-01T15:13:02.481891Z",
     "start_time": "2020-03-01T15:13:02.432635Z"
    }
   },
   "outputs": [
    {
     "data": {
      "text/plain": [
       "[99, 94, 89, 84, 79, 74, 69, 64, 59, 54, 49, 44, 39, 34, 29, 24, 19, 14, 9, 4]"
      ]
     },
     "execution_count": 86,
     "metadata": {},
     "output_type": "execute_result"
    }
   ],
   "source": [
    "list1[::-5]"
   ]
  },
  {
   "cell_type": "code",
   "execution_count": 87,
   "metadata": {
    "ExecuteTime": {
     "end_time": "2020-03-01T15:13:02.506657Z",
     "start_time": "2020-03-01T15:13:02.484958Z"
    }
   },
   "outputs": [
    {
     "data": {
      "text/plain": [
       "[0,\n",
       " 1,\n",
       " 2,\n",
       " 3,\n",
       " 4,\n",
       " 5,\n",
       " 6,\n",
       " 7,\n",
       " 8,\n",
       " 9,\n",
       " 10,\n",
       " 11,\n",
       " 12,\n",
       " 13,\n",
       " 14,\n",
       " 15,\n",
       " 16,\n",
       " 17,\n",
       " 18,\n",
       " 19,\n",
       " 20,\n",
       " 21,\n",
       " 22,\n",
       " 23,\n",
       " 24,\n",
       " 25,\n",
       " 26,\n",
       " 27,\n",
       " 28,\n",
       " 29,\n",
       " 30,\n",
       " 31,\n",
       " 32,\n",
       " 33,\n",
       " 34,\n",
       " 35,\n",
       " 36,\n",
       " 37,\n",
       " 38,\n",
       " 39,\n",
       " 40,\n",
       " 41,\n",
       " 42,\n",
       " 43,\n",
       " 44,\n",
       " 45,\n",
       " 46,\n",
       " 47,\n",
       " 48,\n",
       " 49,\n",
       " 50,\n",
       " 51,\n",
       " 52,\n",
       " 53,\n",
       " 54,\n",
       " 55,\n",
       " 56,\n",
       " 57,\n",
       " 58,\n",
       " 59,\n",
       " 60,\n",
       " 61,\n",
       " 62,\n",
       " 63,\n",
       " 64,\n",
       " 65,\n",
       " 66,\n",
       " 67,\n",
       " 68,\n",
       " 69,\n",
       " 70,\n",
       " 71,\n",
       " 72,\n",
       " 73,\n",
       " 74,\n",
       " 75,\n",
       " 76,\n",
       " 77,\n",
       " 78,\n",
       " 79,\n",
       " 80,\n",
       " 81,\n",
       " 82,\n",
       " 83,\n",
       " 84,\n",
       " 85,\n",
       " 86,\n",
       " 87,\n",
       " 88,\n",
       " 89,\n",
       " 90,\n",
       " 91,\n",
       " 92,\n",
       " 93,\n",
       " 94,\n",
       " 95,\n",
       " 96,\n",
       " 97,\n",
       " 98,\n",
       " 99]"
      ]
     },
     "execution_count": 87,
     "metadata": {},
     "output_type": "execute_result"
    }
   ],
   "source": [
    "list1"
   ]
  },
  {
   "cell_type": "code",
   "execution_count": 88,
   "metadata": {
    "ExecuteTime": {
     "end_time": "2020-03-01T15:13:02.523003Z",
     "start_time": "2020-03-01T15:13:02.511822Z"
    }
   },
   "outputs": [],
   "source": [
    "listof5_time = list(map(lambda x:x*5,list1))"
   ]
  },
  {
   "cell_type": "code",
   "execution_count": 89,
   "metadata": {
    "ExecuteTime": {
     "end_time": "2020-03-01T15:13:02.539356Z",
     "start_time": "2020-03-01T15:13:02.529279Z"
    }
   },
   "outputs": [
    {
     "data": {
      "text/plain": [
       "[0,\n",
       " 5,\n",
       " 10,\n",
       " 15,\n",
       " 20,\n",
       " 25,\n",
       " 30,\n",
       " 35,\n",
       " 40,\n",
       " 45,\n",
       " 50,\n",
       " 55,\n",
       " 60,\n",
       " 65,\n",
       " 70,\n",
       " 75,\n",
       " 80,\n",
       " 85,\n",
       " 90,\n",
       " 95,\n",
       " 100,\n",
       " 105,\n",
       " 110,\n",
       " 115,\n",
       " 120,\n",
       " 125,\n",
       " 130,\n",
       " 135,\n",
       " 140,\n",
       " 145,\n",
       " 150,\n",
       " 155,\n",
       " 160,\n",
       " 165,\n",
       " 170,\n",
       " 175,\n",
       " 180,\n",
       " 185,\n",
       " 190,\n",
       " 195,\n",
       " 200,\n",
       " 205,\n",
       " 210,\n",
       " 215,\n",
       " 220,\n",
       " 225,\n",
       " 230,\n",
       " 235,\n",
       " 240,\n",
       " 245,\n",
       " 250,\n",
       " 255,\n",
       " 260,\n",
       " 265,\n",
       " 270,\n",
       " 275,\n",
       " 280,\n",
       " 285,\n",
       " 290,\n",
       " 295,\n",
       " 300,\n",
       " 305,\n",
       " 310,\n",
       " 315,\n",
       " 320,\n",
       " 325,\n",
       " 330,\n",
       " 335,\n",
       " 340,\n",
       " 345,\n",
       " 350,\n",
       " 355,\n",
       " 360,\n",
       " 365,\n",
       " 370,\n",
       " 375,\n",
       " 380,\n",
       " 385,\n",
       " 390,\n",
       " 395,\n",
       " 400,\n",
       " 405,\n",
       " 410,\n",
       " 415,\n",
       " 420,\n",
       " 425,\n",
       " 430,\n",
       " 435,\n",
       " 440,\n",
       " 445,\n",
       " 450,\n",
       " 455,\n",
       " 460,\n",
       " 465,\n",
       " 470,\n",
       " 475,\n",
       " 480,\n",
       " 485,\n",
       " 490,\n",
       " 495]"
      ]
     },
     "execution_count": 89,
     "metadata": {},
     "output_type": "execute_result"
    }
   ],
   "source": [
    "listof5_time"
   ]
  },
  {
   "cell_type": "code",
   "execution_count": 90,
   "metadata": {
    "ExecuteTime": {
     "end_time": "2020-03-01T15:13:02.546832Z",
     "start_time": "2020-03-01T15:13:02.542195Z"
    }
   },
   "outputs": [],
   "source": [
    "list_mulof10 = list(filter(lambda x : x<250, listof5_time))"
   ]
  },
  {
   "cell_type": "code",
   "execution_count": 91,
   "metadata": {
    "ExecuteTime": {
     "end_time": "2020-03-01T15:13:02.556839Z",
     "start_time": "2020-03-01T15:13:02.550000Z"
    }
   },
   "outputs": [
    {
     "data": {
      "text/plain": [
       "[0,\n",
       " 5,\n",
       " 10,\n",
       " 15,\n",
       " 20,\n",
       " 25,\n",
       " 30,\n",
       " 35,\n",
       " 40,\n",
       " 45,\n",
       " 50,\n",
       " 55,\n",
       " 60,\n",
       " 65,\n",
       " 70,\n",
       " 75,\n",
       " 80,\n",
       " 85,\n",
       " 90,\n",
       " 95,\n",
       " 100,\n",
       " 105,\n",
       " 110,\n",
       " 115,\n",
       " 120,\n",
       " 125,\n",
       " 130,\n",
       " 135,\n",
       " 140,\n",
       " 145,\n",
       " 150,\n",
       " 155,\n",
       " 160,\n",
       " 165,\n",
       " 170,\n",
       " 175,\n",
       " 180,\n",
       " 185,\n",
       " 190,\n",
       " 195,\n",
       " 200,\n",
       " 205,\n",
       " 210,\n",
       " 215,\n",
       " 220,\n",
       " 225,\n",
       " 230,\n",
       " 235,\n",
       " 240,\n",
       " 245]"
      ]
     },
     "execution_count": 91,
     "metadata": {},
     "output_type": "execute_result"
    }
   ],
   "source": [
    "list_mulof10"
   ]
  },
  {
   "cell_type": "code",
   "execution_count": 92,
   "metadata": {
    "ExecuteTime": {
     "end_time": "2020-03-01T15:13:03.130044Z",
     "start_time": "2020-03-01T15:13:02.559990Z"
    }
   },
   "outputs": [
    {
     "ename": "NameError",
     "evalue": "name 'new_list' is not defined",
     "output_type": "error",
     "traceback": [
      "\u001b[0;31m---------------------------------------------------------------------------\u001b[0m",
      "\u001b[0;31mNameError\u001b[0m                                 Traceback (most recent call last)",
      "\u001b[0;32m<ipython-input-92-30d97283f14d>\u001b[0m in \u001b[0;36m<module>\u001b[0;34m\u001b[0m\n\u001b[0;32m----> 1\u001b[0;31m \u001b[0mreduce\u001b[0m\u001b[0;34m(\u001b[0m\u001b[0;32mlambda\u001b[0m \u001b[0mx\u001b[0m\u001b[0;34m,\u001b[0m\u001b[0my\u001b[0m\u001b[0;34m:\u001b[0m \u001b[0mx\u001b[0m \u001b[0;34m+\u001b[0m \u001b[0;36m1\u001b[0m\u001b[0;34m/\u001b[0m\u001b[0my\u001b[0m\u001b[0;34m,\u001b[0m\u001b[0mnew_list\u001b[0m\u001b[0;34m)\u001b[0m\u001b[0;34m\u001b[0m\u001b[0;34m\u001b[0m\u001b[0m\n\u001b[0m",
      "\u001b[0;31mNameError\u001b[0m: name 'new_list' is not defined"
     ]
    }
   ],
   "source": [
    "reduce(lambda x,y: x + 1/y,new_list)"
   ]
  },
  {
   "cell_type": "code",
   "execution_count": null,
   "metadata": {
    "ExecuteTime": {
     "end_time": "2020-03-01T15:13:03.142840Z",
     "start_time": "2020-03-01T15:13:00.638Z"
    }
   },
   "outputs": [],
   "source": [
    "new_list = list1[1:10]\n",
    "new_list"
   ]
  },
  {
   "cell_type": "code",
   "execution_count": null,
   "metadata": {
    "ExecuteTime": {
     "end_time": "2020-03-01T15:13:03.145788Z",
     "start_time": "2020-03-01T15:13:00.643Z"
    }
   },
   "outputs": [],
   "source": [
    "1 + 1/2 + 1/3 + 1/4 + 1/5 + 1/6 + 1/7 + 1/8 + 1/9"
   ]
  },
  {
   "cell_type": "code",
   "execution_count": null,
   "metadata": {
    "ExecuteTime": {
     "end_time": "2020-03-01T15:13:03.152886Z",
     "start_time": "2020-03-01T15:13:00.647Z"
    }
   },
   "outputs": [],
   "source": [
    "\n",
    "def myFunction(arg1, arg2, arg3, *args, **kwargs):\n",
    "    print('First Normal Argument : ' + str(arg1))\n",
    "    print('Second Normal Argument : ' + str(arg2))\n",
    "    print('Third Normal Argument : ' + str(arg3))\n",
    "    print('Non-keyworded Argument : ' + str(args))\n",
    "    print('Keyworded Argument : ' + str(kwargs))\n",
    "\n",
    "myFunction(1, 2, 3, 4, 5, 6, 7, name='Mandar', country='India', age=25)"
   ]
  },
  {
   "cell_type": "code",
   "execution_count": null,
   "metadata": {
    "ExecuteTime": {
     "end_time": "2020-03-01T15:13:03.158588Z",
     "start_time": "2020-03-01T15:13:00.652Z"
    }
   },
   "outputs": [],
   "source": [
    "myFunction(1, 2, 3, 4, 5, 6, 7, name='Kabir', country='India', age=28, status='Married', gender = 'male')"
   ]
  },
  {
   "cell_type": "code",
   "execution_count": 164,
   "metadata": {
    "ExecuteTime": {
     "end_time": "2020-03-01T16:00:28.663394Z",
     "start_time": "2020-03-01T16:00:28.647985Z"
    }
   },
   "outputs": [],
   "source": [
    "class Edureka():\n",
    "    def __init__(self):         #### Constructor\n",
    "        self.pub = 'This is a Public Attribute'   ###Class Variable\n",
    "        self._pro = 'This is a protected Attribute'\n",
    "        self.__pri = 'This is a Private Attribute'\n",
    "        print('Congrats, you just created an Instance of Class Edureka. Hurray!!!')\n",
    "    def set_location(self, loc):   ### Setter Method\n",
    "        self.location = loc     ###location -> class variable\n",
    "    def hello(self):             ### Getter Method\n",
    "        print('This object belongs to location: {}'.format(self.location))\n",
    "    def test(self):\n",
    "        print('Pass function')\n",
    "    def __del__(self):\n",
    "        print('You just deleted an instace of class Edureka')\n",
    "        del self\n",
    "    "
   ]
  },
  {
   "cell_type": "code",
   "execution_count": 165,
   "metadata": {
    "ExecuteTime": {
     "end_time": "2020-03-01T16:00:31.792689Z",
     "start_time": "2020-03-01T16:00:31.783688Z"
    }
   },
   "outputs": [
    {
     "name": "stdout",
     "output_type": "stream",
     "text": [
      "Congrats, you just created an Instance of Class Edureka. Hurray!!!\n",
      "Congrats, you just created an Instance of Class Edureka. Hurray!!!\n",
      "Congrats, you just created an Instance of Class Edureka. Hurray!!!\n",
      "Congrats, you just created an Instance of Class Edureka. Hurray!!!\n"
     ]
    }
   ],
   "source": [
    "new_loc = Edureka()      ### new_loc -> Instance of class Edureka\n",
    "new_loc1 = Edureka()      ### new_loc1 -> Instance of class Edureka\n",
    "new_loc2 = Edureka()      ### new_loc2 -> Instance of class Edureka\n",
    "new_loc3 = Edureka()      ### new_loc3 -> Instance of class Edureka"
   ]
  },
  {
   "cell_type": "code",
   "execution_count": 168,
   "metadata": {
    "ExecuteTime": {
     "end_time": "2020-03-01T16:00:48.171096Z",
     "start_time": "2020-03-01T16:00:48.159427Z"
    }
   },
   "outputs": [
    {
     "data": {
      "text/plain": [
       "<__main__.Edureka at 0x10c6a0400>"
      ]
     },
     "execution_count": 168,
     "metadata": {},
     "output_type": "execute_result"
    }
   ],
   "source": [
    "new_loc"
   ]
  },
  {
   "cell_type": "code",
   "execution_count": 143,
   "metadata": {
    "ExecuteTime": {
     "end_time": "2020-03-01T15:51:00.097045Z",
     "start_time": "2020-03-01T15:51:00.084121Z"
    }
   },
   "outputs": [
    {
     "data": {
      "text/plain": [
       "['_Edureka__pri',\n",
       " '__class__',\n",
       " '__delattr__',\n",
       " '__dict__',\n",
       " '__dir__',\n",
       " '__doc__',\n",
       " '__eq__',\n",
       " '__format__',\n",
       " '__ge__',\n",
       " '__getattribute__',\n",
       " '__gt__',\n",
       " '__hash__',\n",
       " '__init__',\n",
       " '__init_subclass__',\n",
       " '__le__',\n",
       " '__lt__',\n",
       " '__module__',\n",
       " '__ne__',\n",
       " '__new__',\n",
       " '__reduce__',\n",
       " '__reduce_ex__',\n",
       " '__repr__',\n",
       " '__setattr__',\n",
       " '__sizeof__',\n",
       " '__str__',\n",
       " '__subclasshook__',\n",
       " '__weakref__',\n",
       " '_pro',\n",
       " 'hello',\n",
       " 'pub',\n",
       " 'set_location',\n",
       " 'test']"
      ]
     },
     "execution_count": 143,
     "metadata": {},
     "output_type": "execute_result"
    }
   ],
   "source": [
    "dir(new_loc)"
   ]
  },
  {
   "cell_type": "code",
   "execution_count": 148,
   "metadata": {
    "ExecuteTime": {
     "end_time": "2020-03-01T15:56:21.345919Z",
     "start_time": "2020-03-01T15:56:21.335800Z"
    }
   },
   "outputs": [],
   "source": [
    "new_loc.set_location('LA')"
   ]
  },
  {
   "cell_type": "code",
   "execution_count": 123,
   "metadata": {
    "ExecuteTime": {
     "end_time": "2020-03-01T15:35:58.340254Z",
     "start_time": "2020-03-01T15:35:58.330183Z"
    }
   },
   "outputs": [
    {
     "name": "stdout",
     "output_type": "stream",
     "text": [
      "This object belongs to location: Delhi\n"
     ]
    }
   ],
   "source": [
    "new_loc3.hello()"
   ]
  },
  {
   "cell_type": "code",
   "execution_count": 110,
   "metadata": {
    "ExecuteTime": {
     "end_time": "2020-03-01T15:31:43.489395Z",
     "start_time": "2020-03-01T15:31:43.479996Z"
    }
   },
   "outputs": [
    {
     "name": "stdout",
     "output_type": "stream",
     "text": [
      "Pass function\n"
     ]
    }
   ],
   "source": [
    "new_loc1.test()"
   ]
  },
  {
   "cell_type": "code",
   "execution_count": 131,
   "metadata": {
    "ExecuteTime": {
     "end_time": "2020-03-01T15:45:08.975170Z",
     "start_time": "2020-03-01T15:45:08.955712Z"
    }
   },
   "outputs": [
    {
     "data": {
      "text/plain": [
       "['__class__',\n",
       " '__delattr__',\n",
       " '__dict__',\n",
       " '__dir__',\n",
       " '__doc__',\n",
       " '__eq__',\n",
       " '__format__',\n",
       " '__ge__',\n",
       " '__getattribute__',\n",
       " '__gt__',\n",
       " '__hash__',\n",
       " '__init__',\n",
       " '__init_subclass__',\n",
       " '__le__',\n",
       " '__lt__',\n",
       " '__module__',\n",
       " '__ne__',\n",
       " '__new__',\n",
       " '__reduce__',\n",
       " '__reduce_ex__',\n",
       " '__repr__',\n",
       " '__setattr__',\n",
       " '__sizeof__',\n",
       " '__str__',\n",
       " '__subclasshook__',\n",
       " '__weakref__',\n",
       " 'hello',\n",
       " 'location',\n",
       " 'set_location',\n",
       " 'test']"
      ]
     },
     "execution_count": 131,
     "metadata": {},
     "output_type": "execute_result"
    }
   ],
   "source": [
    "dir(new_loc)"
   ]
  },
  {
   "cell_type": "code",
   "execution_count": 140,
   "metadata": {
    "ExecuteTime": {
     "end_time": "2020-03-01T15:47:39.138396Z",
     "start_time": "2020-03-01T15:47:39.117685Z"
    }
   },
   "outputs": [
    {
     "data": {
      "text/plain": [
       "'__main__'"
      ]
     },
     "execution_count": 140,
     "metadata": {},
     "output_type": "execute_result"
    }
   ],
   "source": [
    "Edureka.__module__"
   ]
  },
  {
   "cell_type": "code",
   "execution_count": 144,
   "metadata": {
    "ExecuteTime": {
     "end_time": "2020-03-01T15:51:22.671144Z",
     "start_time": "2020-03-01T15:51:22.651808Z"
    }
   },
   "outputs": [
    {
     "data": {
      "text/plain": [
       "'This is a Public Attribute'"
      ]
     },
     "execution_count": 144,
     "metadata": {},
     "output_type": "execute_result"
    }
   ],
   "source": [
    "new_loc.pub"
   ]
  },
  {
   "cell_type": "code",
   "execution_count": 145,
   "metadata": {
    "ExecuteTime": {
     "end_time": "2020-03-01T15:51:32.767954Z",
     "start_time": "2020-03-01T15:51:32.749379Z"
    }
   },
   "outputs": [
    {
     "data": {
      "text/plain": [
       "'This is a protected Attribute'"
      ]
     },
     "execution_count": 145,
     "metadata": {},
     "output_type": "execute_result"
    }
   ],
   "source": [
    "new_loc._pro"
   ]
  },
  {
   "cell_type": "code",
   "execution_count": 147,
   "metadata": {
    "ExecuteTime": {
     "end_time": "2020-03-01T15:52:04.561102Z",
     "start_time": "2020-03-01T15:52:04.548638Z"
    }
   },
   "outputs": [
    {
     "data": {
      "text/plain": [
       "'This is a Private Attribute'"
      ]
     },
     "execution_count": 147,
     "metadata": {},
     "output_type": "execute_result"
    }
   ],
   "source": [
    "new_loc._Edureka__pri"
   ]
  },
  {
   "cell_type": "code",
   "execution_count": 149,
   "metadata": {
    "ExecuteTime": {
     "end_time": "2020-03-01T15:56:26.917960Z",
     "start_time": "2020-03-01T15:56:26.892896Z"
    }
   },
   "outputs": [
    {
     "data": {
      "text/plain": [
       "'LA'"
      ]
     },
     "execution_count": 149,
     "metadata": {},
     "output_type": "execute_result"
    }
   ],
   "source": [
    "new_loc.location          ### location -> Instance variable of object new_loc"
   ]
  },
  {
   "cell_type": "code",
   "execution_count": 181,
   "metadata": {
    "ExecuteTime": {
     "end_time": "2020-03-01T16:12:05.223780Z",
     "start_time": "2020-03-01T16:12:05.208860Z"
    }
   },
   "outputs": [],
   "source": [
    "class Date:\n",
    "\tdef __init__(self, year, month, day): #year-month-day\n",
    "\t\tself.year = year\n",
    "\t\tself.month = month\n",
    "\t\tself.day = day\n",
    "\t\tprint(\"init\")\n",
    "\n",
    "\t@classmethod\n",
    "\tdef dmy(self, day, month, year): #day-month-year\n",
    "\t\tprint(\"dmy\")\n",
    "\t\tself.year = year\n",
    "\t\tself.month = month\n",
    "\t\tself.day = day\n",
    "\t\t#order of return should be same as init\n",
    "\t\treturn self(self.year, self.month, self.day)\n",
    "\n",
    "\t@classmethod\n",
    "\tdef mdy(self, month, day, year): #month-day-year\n",
    "\t\tprint(\"mdy\")\n",
    "\t\tself.year = year\n",
    "\t\tself.month = month\n",
    "\t\tself.day = day\n",
    "\t\t#order of return should be same as init\n",
    "\t\treturn self(self.year, self.month, self.day)"
   ]
  },
  {
   "cell_type": "code",
   "execution_count": 182,
   "metadata": {
    "ExecuteTime": {
     "end_time": "2020-03-01T16:12:05.807820Z",
     "start_time": "2020-03-01T16:12:05.797590Z"
    }
   },
   "outputs": [
    {
     "name": "stdout",
     "output_type": "stream",
     "text": [
      "init\n",
      "dmy\n",
      "init\n",
      "mdy\n",
      "init\n"
     ]
    }
   ],
   "source": [
    "\n",
    "a=Date(2016, 12, 31)\n",
    "#print(a.year) #2016\n",
    "\n",
    "b=Date.dmy(31, 12, 2015)\n",
    "#print(b.year) #2015\n",
    "\n",
    "c=Date.mdy(12, 31, 2014)\n",
    "#print(a.year) #2014"
   ]
  },
  {
   "cell_type": "code",
   "execution_count": 178,
   "metadata": {
    "ExecuteTime": {
     "end_time": "2020-03-01T16:06:00.068179Z",
     "start_time": "2020-03-01T16:06:00.057125Z"
    }
   },
   "outputs": [
    {
     "data": {
      "text/plain": [
       "12"
      ]
     },
     "execution_count": 178,
     "metadata": {},
     "output_type": "execute_result"
    }
   ],
   "source": [
    "a.month"
   ]
  },
  {
   "cell_type": "code",
   "execution_count": 189,
   "metadata": {
    "ExecuteTime": {
     "end_time": "2020-03-01T16:25:43.449779Z",
     "start_time": "2020-03-01T16:25:43.428971Z"
    }
   },
   "outputs": [
    {
     "name": "stdout",
     "output_type": "stream",
     "text": [
      "Eating...\n",
      "Doggie......\n"
     ]
    }
   ],
   "source": [
    "#Multilevel Inheritance\n",
    "class Animal:\n",
    "    def eat(self):\n",
    "        print('Eating...')\n",
    "class Dog(Animal):\n",
    "    def bark(self):\n",
    "        print('Barking...')\n",
    "    def eat(self):\n",
    "        print('Doggie......')\n",
    "class BabyDog(Dog):\n",
    "    def weep(self):\n",
    "        print('Weeping...')\n",
    "d=BabyDog()\n",
    "a = Dog()\n",
    "b = Animal()\n",
    "#d.eat()\n",
    "#d.bark()\n",
    "#d.weep()\n",
    "\n",
    "#a.eat()\n",
    "#a.bark()\n",
    "#a.weep()\n",
    "b.eat()\n",
    "a.eat()\n",
    "#b.eat()\n",
    "#b.bark()\n",
    "#b.weep()\n",
    "\n"
   ]
  },
  {
   "cell_type": "code",
   "execution_count": 193,
   "metadata": {
    "ExecuteTime": {
     "end_time": "2020-03-01T16:30:36.125431Z",
     "start_time": "2020-03-01T16:30:36.101493Z"
    }
   },
   "outputs": [
    {
     "name": "stdout",
     "output_type": "stream",
     "text": [
      "first\n",
      "second\n",
      "third\n",
      "2nd eat\n"
     ]
    }
   ],
   "source": [
    "\n",
    "#Multiple Inheritance\n",
    "class First(object):\n",
    "    def __init__(self):\n",
    "        super(First, self).__init__()\n",
    "        print(\"first\")\n",
    "    def eat(self):\n",
    "        print('first eat')\n",
    "\n",
    "\n",
    "class Second(object):\n",
    "    def __init__(self):\n",
    "        super(Second, self).__init__()\n",
    "        print(\"second\")\n",
    "    def eat(self):\n",
    "        print('2nd eat')\n",
    "\n",
    "class Third(Second, First):\n",
    "    def __init__(self):\n",
    "        super(Third, self).__init__()\n",
    "        print(\"third\")\n",
    "\n",
    "\n",
    "a = Third()\n",
    "a.eat()"
   ]
  },
  {
   "cell_type": "code",
   "execution_count": 197,
   "metadata": {
    "ExecuteTime": {
     "end_time": "2020-03-01T16:53:43.074710Z",
     "start_time": "2020-03-01T16:53:43.054129Z"
    }
   },
   "outputs": [
    {
     "data": {
      "text/plain": [
       "['__call__',\n",
       " '__class__',\n",
       " '__delattr__',\n",
       " '__dir__',\n",
       " '__doc__',\n",
       " '__eq__',\n",
       " '__format__',\n",
       " '__ge__',\n",
       " '__getattribute__',\n",
       " '__gt__',\n",
       " '__hash__',\n",
       " '__init__',\n",
       " '__init_subclass__',\n",
       " '__le__',\n",
       " '__lt__',\n",
       " '__module__',\n",
       " '__name__',\n",
       " '__ne__',\n",
       " '__new__',\n",
       " '__qualname__',\n",
       " '__reduce__',\n",
       " '__reduce_ex__',\n",
       " '__repr__',\n",
       " '__self__',\n",
       " '__setattr__',\n",
       " '__sizeof__',\n",
       " '__str__',\n",
       " '__subclasshook__',\n",
       " '__text_signature__']"
      ]
     },
     "execution_count": 197,
     "metadata": {},
     "output_type": "execute_result"
    }
   ],
   "source": [
    "dir(sqrt)"
   ]
  },
  {
   "cell_type": "code",
   "execution_count": 195,
   "metadata": {
    "ExecuteTime": {
     "end_time": "2020-03-01T16:53:31.786681Z",
     "start_time": "2020-03-01T16:53:31.778720Z"
    }
   },
   "outputs": [],
   "source": [
    "from math import sqrt"
   ]
  },
  {
   "cell_type": "code",
   "execution_count": 198,
   "metadata": {
    "ExecuteTime": {
     "end_time": "2020-03-01T16:53:56.793559Z",
     "start_time": "2020-03-01T16:53:56.781395Z"
    }
   },
   "outputs": [
    {
     "data": {
      "text/plain": [
       "3481.5531017061912"
      ]
     },
     "execution_count": 198,
     "metadata": {},
     "output_type": "execute_result"
    }
   ],
   "source": [
    "sqrt(12121212)"
   ]
  },
  {
   "cell_type": "code",
   "execution_count": 200,
   "metadata": {
    "ExecuteTime": {
     "end_time": "2020-03-01T16:57:48.766678Z",
     "start_time": "2020-03-01T16:57:48.748581Z"
    }
   },
   "outputs": [
    {
     "name": "stdout",
     "output_type": "stream",
     "text": [
      "False\n",
      "sys.flags(debug=0, inspect=0, interactive=0, optimize=0, dont_write_bytecode=0, no_user_site=0, no_site=0, ignore_environment=0, verbose=0, bytes_warning=0, quiet=0, hash_randomization=1, isolated=0, dev_mode=False, utf8_mode=0)\n",
      "/Applications/Anaconda/anaconda3\n",
      "['/Applications/Anaconda/anaconda3/lib/python3.7/site-packages/ipykernel_launcher.py', '-f', '/Users/shikhar/Library/Jupyter/runtime/kernel-2ed3a130-ff03-4190-9e5e-28eefd627f42.json']\n"
     ]
    },
    {
     "ename": "SystemExit",
     "evalue": "",
     "output_type": "error",
     "traceback": [
      "An exception has occurred, use %tb to see the full traceback.\n",
      "\u001b[0;31mSystemExit\u001b[0m\n"
     ]
    },
    {
     "name": "stderr",
     "output_type": "stream",
     "text": [
      "/Applications/Anaconda/anaconda3/lib/python3.7/site-packages/IPython/core/interactiveshell.py:3327: UserWarning: To exit: use 'exit', 'quit', or Ctrl-D.\n",
      "  warn(\"To exit: use 'exit', 'quit', or Ctrl-D.\", stacklevel=1)\n"
     ]
    }
   ],
   "source": [
    "import sys\n",
    "\n",
    "print(not sys)\n",
    "\n",
    "#print(sys.winver)\n",
    "\n",
    "print(sys.flags)\n",
    "\n",
    "print(sys.prefix)\n",
    "\n",
    "\n",
    "print(sys.argv)\n",
    "\n",
    "print(sys.exit())\n",
    "\n",
    "\n",
    "\n"
   ]
  },
  {
   "cell_type": "code",
   "execution_count": 203,
   "metadata": {
    "ExecuteTime": {
     "end_time": "2020-03-01T16:59:49.856271Z",
     "start_time": "2020-03-01T16:59:49.829224Z"
    }
   },
   "outputs": [
    {
     "name": "stdout",
     "output_type": "stream",
     "text": [
      "posix\n",
      "environ({'TERM_PROGRAM': 'Apple_Terminal', 'TERM': 'xterm-color', 'SHELL': '/bin/bash', 'TMPDIR': '/var/folders/w8/jvffbt2d5d5cwtwjxz9h8v2c0000gn/T/', 'Apple_PubSub_Socket_Render': '/private/tmp/com.apple.launchd.Ggstd3j7GY/Render', 'CONDA_SHLVL': '1', 'TERM_PROGRAM_VERSION': '421.2', 'CONDA_PROMPT_MODIFIER': '(base) ', 'TERM_SESSION_ID': '6F7A2B49-12DF-402A-A315-D503933A3097', 'LC_ALL': 'en_US.UTF-8', 'USER': 'shikhar', 'CONDA_EXE': '/Applications/Anaconda/anaconda3/bin/conda', 'SSH_AUTH_SOCK': '/private/tmp/com.apple.launchd.JX7r2JNKYj/Listeners', '_CE_CONDA': '', 'CONDA_ROOT': '/Applications/Anaconda/anaconda3', 'PATH': '/Applications/Anaconda/anaconda3/bin:/Library/Frameworks/Python.framework/Versions/3.7/bin:/usr/local/bin:/usr/bin:/bin:/usr/sbin:/sbin', 'CONDA_PREFIX': '/Applications/Anaconda/anaconda3', 'PWD': '/Users/shikhar', 'JAVA_HOME': '/Library/Java/Home', 'LANG': 'en_US.UTF-8', 'XPC_FLAGS': '0x0', '_CE_M': '', 'XPC_SERVICE_NAME': '0', 'SHLVL': '3', 'HOME': '/Users/shikhar', 'QT_API': 'pyqt5', 'CONDA_PYTHON_EXE': '/Applications/Anaconda/anaconda3/bin/python', 'LOGNAME': 'shikhar', 'LC_CTYPE': 'UTF-8', 'CONDA_DEFAULT_ENV': 'base', '_': '/Applications/Anaconda/anaconda3/bin/jupyter-notebook', 'KERNEL_LAUNCH_TIMEOUT': '40', 'JPY_PARENT_PID': '17407', 'CLICOLOR': '1', 'PAGER': 'cat', 'GIT_PAGER': 'cat', 'MPLBACKEND': 'module://ipykernel.pylab.backend_inline'})\n",
      "shikhar\n",
      "17407\n",
      "/Users/shikhar/Downloads\n"
     ]
    }
   ],
   "source": [
    "import os\n",
    "\n",
    "print(os.name)\n",
    "\n",
    "print(os.environ)\n",
    "\n",
    "print(os.getlogin())\n",
    "\n",
    "print(os.getppid())\n",
    "\n",
    "'''\n",
    "import os\n",
    "'''\n",
    "print(os.getcwd())\n",
    "\n",
    "#print(os.chdir('d:/Python'))\n",
    "\n",
    "#print(os.mkdir('d:/Python/Py'))\n",
    "\n",
    "#print(os.rmdir('d:/Python/Py'))\n",
    "\n"
   ]
  },
  {
   "cell_type": "code",
   "execution_count": 210,
   "metadata": {
    "ExecuteTime": {
     "end_time": "2020-03-01T17:02:21.637317Z",
     "start_time": "2020-03-01T17:02:21.625107Z"
    }
   },
   "outputs": [],
   "source": [
    "os.mkdir('/Users/shikhar/Downloads/A1010')"
   ]
  },
  {
   "cell_type": "code",
   "execution_count": 205,
   "metadata": {
    "ExecuteTime": {
     "end_time": "2020-03-01T17:01:07.861321Z",
     "start_time": "2020-03-01T17:01:07.851251Z"
    }
   },
   "outputs": [],
   "source": [
    "os.chdir('/Users/shikhar/Downloads/A1010/')"
   ]
  },
  {
   "cell_type": "code",
   "execution_count": 207,
   "metadata": {
    "ExecuteTime": {
     "end_time": "2020-03-01T17:01:28.547923Z",
     "start_time": "2020-03-01T17:01:28.533072Z"
    }
   },
   "outputs": [
    {
     "data": {
      "text/plain": [
       "'/Users/shikhar/Downloads/A1010'"
      ]
     },
     "execution_count": 207,
     "metadata": {},
     "output_type": "execute_result"
    }
   ],
   "source": [
    "os.getcwd()"
   ]
  },
  {
   "cell_type": "code",
   "execution_count": 208,
   "metadata": {
    "ExecuteTime": {
     "end_time": "2020-03-01T17:01:44.763102Z",
     "start_time": "2020-03-01T17:01:44.753373Z"
    }
   },
   "outputs": [],
   "source": [
    "os.chdir('/Users/shikhar/Downloads/')"
   ]
  },
  {
   "cell_type": "code",
   "execution_count": 211,
   "metadata": {
    "ExecuteTime": {
     "end_time": "2020-03-01T17:02:34.633398Z",
     "start_time": "2020-03-01T17:02:34.606865Z"
    }
   },
   "outputs": [],
   "source": [
    "os.rmdir('/Users/shikhar/Downloads/A1010')"
   ]
  },
  {
   "cell_type": "code",
   "execution_count": 218,
   "metadata": {
    "ExecuteTime": {
     "end_time": "2020-03-01T17:05:38.926377Z",
     "start_time": "2020-03-01T17:05:38.920247Z"
    }
   },
   "outputs": [],
   "source": [
    "files = os.walk(os.getcwd())"
   ]
  },
  {
   "cell_type": "code",
   "execution_count": 223,
   "metadata": {
    "ExecuteTime": {
     "end_time": "2020-03-01T17:06:25.031385Z",
     "start_time": "2020-03-01T17:06:24.994653Z"
    }
   },
   "outputs": [
    {
     "name": "stdout",
     "output_type": "stream",
     "text": [
      "[('/Users/shikhar/Downloads', ['Case-study2', 'Video Recording_Case Study', 'xxy7e56wxp', 'Flight price prediction_Project_Note_2_', 'ap', '775_m2_codes_v1.0 2', '574_m4_datasets_v3.0', 'Python-Project-Solutions', 'Shinysample', '775_m2_codes_v1.0 3', 'hypothesis-testing-using-t-test_files', 'Case Studies - Annalect India - Lead Position', 'PROBLEM', 'Project_Debrief_files', 'DS_mod5', 'RE attempt-PM-GA-Grp.1', '__pycache__', 'rar', '2017', 'Calibri and Cambria Fonts', '574_m5_datasets_v3.0(1)', 'BuildingMachineLearningSystemswithPythonThirdedition_Code', '0pu3920ijc', '574_m5_datasets_v3.0', 'Machine_Learning_Algorithms_Practice_-_SimpliLearn_Script_files', '8v4mqr1qvbj', 'Final - EY -Content', '775_m2_codes_v1.0', '.ipynb_checkpoints', 'Fine', '574_m4_datasets_v3.0(1)', '574_m4_datasets_v3.0 2', 'c88x4d71we 2', 'Comcast_and_Filtering', 'Prestige_files'], ['574_m5_case_study_sol_2_v3.0.html', '574_m10_case_study_1_v3.0(1).pdf', 'prisoners.csv', 'GL - Sat - Feb-08-2020 - Python Doubt clearing session-1.html', 'Weekday Batch 13 Jan.pdf', 'Untitled10.ipynb', '.Rhistory', 'Untitled7.ipynb', 'trans_us.csv', 'Uber code-1.R', 'Code(7).ipynb', '574_m10_case_study_1_v3.0.pdf', 'output1.avi', 'PlantGrowth.R', 'ANOVA Datasets & Presentations.zip', 'GolfBall_OneWayAnova_Solutions.html', '574_m6_assign_sol_2_v3.0(1).ipynb', 'GL - Sat - Feb-09-2020 - Python Doubt clearing session.ipynb', 'ANOVA- Session Presentation.pptx', 'Code 1 (1).ipynb', 'beauty.png', 'ap.tgz', 'diabetes.png', '574_m5_codes_v3.0.zip', 'Untitled.html', 'Salaries.csv', 'Insurance Case Study_Solution.html', 'Machine Learning.ppt', 'AirBnB - Linear Regression-1.html', 'GL PGDA Stats class 3.xlsx', 'Induction 21 Dec.pdf', 'Salary_Data.csv', 'topics.txt', 'Untitled12.ipynb', 'class2.py', 'Book 7_Python.pdf', 'Shailu Sharma.pdf', 'Untitled5.ipynb', 'WhatsApp Image 2020-01-06 at 14.34.59.jpeg', 'Code 1(3).ipynb', 'Golfball Problem statement.pdf', 'Code (1).ipynb', 'Class10_Clustering_Association_Rules_Mining.R', 'Clustering MCQ.docx', 'Decision Tree MCQ.docx', 'Untitled1.ipynb', 'MathScoreTerm1.csv', '574_m4_case_study_sol_3_v3.0.html', 'spray.csv', '574_m10_assign_sol_3_v3.0.ipynb', '~$337966988-Dsur-i-Chapter-06-Correlation.pptx', 'insurance(1).csv', 'SMDM - Week 1-1.pdf', 'driver-data(1).csv', 'Practice_Exercise_Inferential_Statistics_Student_File(2).ipynb', 'Untitled16.ipynb', '574_m4_case_study_sol_1_v3.0(1).ipynb', 'BOE-XUDLERD(1).csv', '.DS_Store', 'Delhi Air Pollution case study- Problem Statement-2.pdf', 'ap.dat', 'Plantgrowth Case Study-Solution .pdf', 'Induction 11 Jan.pdf', 'Album Sales 1.dat', 'DS Python for Clarinet.xlsx', '0pu3920ijc.rar', 'screen-capture (2).webm', 'Bank-Data.csv', 'Code 1(1).ipynb', 'TheUnarchiver.dmg', 'NLTKClass.ipynb', 'First Session py file.py', 'Uber code.R', '~$337967136-Dsur-i-Chapter-07-Linear-Regression.pptx', 'driver-data.csv', '574_m4_case_study_sol_2_v3.0.ipynb', 'os96pz8d4p', 'PhysicsScoreTerm1.csv', '574_m6_assign_sol_2_v3.0.ipynb', 'NLTK with Python.ipynb', 'Code(5).ipynb', 'k-means live in class.ipynb', 'TAX-FC-1082063.pdf', 'sampleSubmission.csv', '8v4mqr1qvbj.rar', 'Code 2(2).ipynb', 'fspqr5qgb9.ipynb', 'Code(9).ipynb', 'trans_us(2).csv', 'Album Sales 2.dat', '~$Project notes 1 critieria.xlsx', 'Practice_Exercise_Inferential_Statistics_solution (2).ipynb', 'rarosx-5.8.0.tar.gz', 'Insurance Case Study_Student.ipynb', 'Outlook for Mac Archive.olm', 'receipt.pdf_1578940743.pdf', '.localized', 'Untitled3.ipynb', '334_installation_guide.pdf', 'Food Nutrition (3).xlsx', 'Untitled14.ipynb', 'Titan Case Study.csv', 'SMDM - Week 3-1.pdf', 'aadhar aakash.pdf', 'gmse5aof37.ipynb', 'Untitled.ipynb', 'gmse5aof37(1).ipynb', 'Code.ipynb', '~$LDA1.docx', 'Plantgrowth Case Study-Problem statement.pdf', 'Data Science Using Python - Week 2.pdf', 'vocab(2).txt', 'honeyproduction-1.csv', 'Code 1(5).ipynb', 'Factor Analysis Datasets and Presentations-new.rar', 'West Nile Virus[1].docx', 'hziif08sj(1).ipynb', 'Induction 19 Oct (1).pdf', 'mtcars_for_manymerge(1).csv', 'SampleSDPf.pdf', 'Predicting Salary using OLS SLR.ipynb', 'Hurricanes.csv', 'GL - Sat - Feb-08-2020 - Python Doubt clearing session.ipynb', 'Untitled4.ipynb', 'show.png', 'Untitled13.ipynb', 'RE attempt-PM-GA-Grp.1.zip', 'ProKabaddi-Data-Analysis-master.zip', 'Book 7_Python(1).pdf', 'Untitled6.ipynb', 'Salary Prediction-Capstone.R', 'WhatsApp Image 2020-01-13 at 23.36.13.jpeg', 'AirBnB - Linear Regression.ipynb', 'Untitled11.ipynb', 'test.csv', '574_m4_case_study_1_v3.1.pdf', 'oww7zdmffxi.ipynb', 'dogs.jpeg', 'pacific.csv', 'horses.ipynb', 'Anova Practice Solution(1).Rmd', 'Diabetes(2).txt', '574_m7_assign_sol_2_v3.0(1).html', '574_m7_case_study_3_v3.0.pdf', 'BOE-XUDLERD.csv', '~$Machine Learning.ppt', 'Diabetes.txt', '~$Edureka_Sept_Bonanza.xlsx', 'Food_Nutrition_Intro_to_Python (3).html', 'SHAILU SHARMA.DOCX', '~$time_series_week2.pptx', 'Uber code(1).R', 'Code_PCA.html', 'Induction 19 Oct.pdf', 'code(1).ipynb', 'Titan_casestudy_tests_Solution (1).ipynb', 'xxy7e56wxp.zip', 'Tableau Public Solution.docx', 'Weekend Batch 28 Sep.pdf', 'Naive Bayes.ipynb', 'Figure_04_01.png', 'DS Python for MultiSoft Systems.xlsx', 'c88x4d71we(1)', 'Practice_Exercise_Inferential_Statistics_solution (2)-1.html', 'Decision Tree MCQ Solution.ipynb', 'Untitled15.ipynb', 'Code(3).ipynb', '574_m7_assign_sol_2_v3.0(1).ipynb', '574_m10_assign_sol_1_v3.0.ipynb', 'abhi.jpeg', 'Project Note1.Rmd', 'Food Nutrition.xlsx', 'Untitled2.ipynb', 'insurance.csv', 'Code 2(4).ipynb', 'c88x4d71we.zip', '~$Doubt clearing session.xlsx', '574_m3_case_study_3_soln_v3.0.html', 'spring1617_assignment1.zip', '574_m5_case_study_2_v3.1.pdf', 'Regression practice case study.pdf', 'Figure_04_02.png', 'Regression.ppt', 'jxrh92o0se-1.zip', 'Induction 02 Nov.pdf', 'test[1].csv', 'Untitled17.ipynb', 'Anova practice Questions & Answers.pdf', 'Food Nutrition R Code.R', 'zoo.csv', 'case 1.html', 'Weekend Batch 28 Sep(1).pdf', 'sample-salesv2.csv', 'Prestige.csv', 'Screenshot_2020-01-23 (2) Shikhar Parashar.png', 'data.csv', 'West Nile Virus.docx', '574_m5_case_study_sol_2_v3.0.ipynb', 'WhatsApp Image 2020-01-13 at 23.36.13(1).jpeg', 'Exceptional Teaching Delivery_V1.pptx', 'GL - Sat - Feb-09-2020 - Python Doubt clearing session.html', 'Code 2.ipynb', 'Practice_Exercise_Inferential_Statistics_Student_File.ipynb', 'screen-capture (2)(1).webm', 'chapter_04.ipynb', 'AirBnB - Linear Regression.html', 'Online_Retail.xlsx', '574_m10_assign_sol_2_v3.0.ipynb', '~$Business-Startup-Costs-Template.xlsx', 'RASHMI KUMARI.pdf', 'ANOVA Model solution.pdf', 'Code 1(2).ipynb', '574_m4_case_study_4_v3.1.pdf', 'k-means class script.ipynb', 'Practice_Exercise_Inferential_Statistics_solution (2).html', 'Application_Form_Account_Opening07012020021040.pdf', '574_m4_case_study_sol_3_v3.0.ipynb', 'c88x4d71we', 'Pandas & Data Visualization - Honey Production Kaggle Dataset (2).ipynb', '574_m4_datasets_v3.0.zip', '574_m6_assign_sol_3_v3.0.ipynb', 'BigMartSalesData.csv', 'Practice_Exercise_Inferential_Statistics_Student_File(1).ipynb', '~$Infrential Stats(1).pptx', '574_m7_assign_sol_2_v3.0.ipynb', 'Anova Practice Solution.Rmd', '574_m5_case_study_sol_1_v3.0.ipynb', 'HollywoodMovies.csv', '574_m5_case_study_2_v3.1(1).pdf', 'Pandas & Data Visualization - Honey Production Kaggle Dataset (2).html', 'Decision Tree MCQ Solution.html', '574_m3_case_study_2_soln_v3.0.ipynb', 'Project notes 1 critieria.xlsx', 'GL - Sat - Feb-08-2020 - Python Doubt clearing session.html', 'Profile_Shikhar_Parashar (AI ML).pdf', 'movie_metadata1(1).csv', 'Code 2(1).ipynb', 'Code(6).ipynb', 'Titan_casestudy_tests_Solution (1).html', 'GolfBall_OneWayAnova_Solutions.ipynb', 'Rashmi Resume', 'pybenford.py', 'Clustering MCQ.html', 'cereal.csv', 'new aakash.docx', '~$Linear Disriminant Analysis.ppt', 'Titan_casestudy_tests_Student-1.ipynb', 'Weekend Batch 28 Dec.pdf', 'honeyproduction-1(1).csv', '~$337946560-Dsur-i-Chapter-02-Everything-You-Ever-Wanted-to-Know-About-Statistics.pptx', '.RData', 'weather.csv', 'Diabetes(1).txt', 'train[1].csv', 'BostonHousing.csv', 'SalaryGender.csv', '~$4_m5_case_study_1_v3.0.docx', 'Code(4).ipynb', 'Pandas & Data Visualization - Honey Production Kaggle Dataset (2)(1).html', '574_m5_datasets_v3.0.zip', 'Code(8).ipynb', 'Code 2(3).ipynb', 'vocab.txt', 'Predicting Salary using OLS SLR.html', 'Content Brief (1) (1).docx', 'Delhi Air Pollution Case Study-Dataset.csv', 'File for the First Session - Python Programming with Edureka.ipynb', 'GL - Sat - Feb-09-2020 - Python Doubt clearing session-1.html', 'application_27210000020010676472_1578940738.pdf', 'Untitled8.ipynb', 'GolfBall_OneWayAnova_Student.ipynb', 'Prestige.Rmd', '574_m4_datasets_v3.0(1).zip', 'Titan Case Study-1.csv', 'Clustering MCQ - Solution.docx', 'Insurance Case Study_Student (1).ipynb', 'vocab(1).txt', 'Clustering MCQ.ipynb', '574_m10_case_study_2_v3.0.pdf', '574_m10_case_study_3_v3.0.pdf', 'loan_borowwer_data.csv', 'mtcars_for_manymerge(2).csv', 'SMDM - Week 2 .pdf', 'SMDM - Week 3(1).pdf', 'WhatsApp Image 2020-01-13 at 23.29.15.jpeg', 'Food_Nutrition_Intro_to_Python (3).ipynb', 'Code 1 (2).ipynb', 'AirBNB.csv', '~$337967321-Dsur-i-Chapter-08-Logistic-Regression.pptx', 'CityTemps.csv', 'DSScoreTerm1.csv', 'Problem2.jpg', 'train.csv', 'Untitled18.ipynb', '574_m6_assign_sol_1_v3.0.ipynb', '574_m6_case_study_2_v3.0.pdf', '574_m4_case_study_sol_1_v3.0.ipynb', 'Video Capture.py', 'trans_us(1).csv', 'mtcars_for_manymerge.csv', 'Yahoo Mail - Fw_ Offer-firstsource.pdf', 'Flight price prediction_Project_Note_2_.zip', 'File for the First Session - Python Programming with Edureka.html', 'Code 1.ipynb', 'WhatsA.jpeg', 'Data Dictionary.xlsx', 'Recommend.csv', 'PGPDSBA December 2019 Doubt Clearing Session - Python For Data Science (Responses).xlsx', 'Plantgrowth Case Study-Problem statement(1).pdf', '574_m5_case_study_sol_1_v3.0.html', 'Profile-3.pdf', '9781788623223_Code.zip', 'Second Session Python Programming.py', '574_m5_case_study_1_v3.0.pdf', 'Resume Aakash.pdf', 'Problem1.jpg', '~$337946956-Dsur-i-Chapter-04-Exploring-Data-With-Graphs-2.pptx', 'insurance(2).csv', 'chapter_05.ipynb', 'movie_metadata1.csv', '~$DS Python for Clarinet.xlsx', 'fspqr5qgb9.html', 'middle_tn_schools.csv', 'Delhi Air Pollution Case study- Solution-2.pdf', 'Decision Tree MCQ - Solution.docx', 'Code 2 (1).ipynb', 'Code 1(4).ipynb', 'horse.csv', 'PolyReg.ipynb', 'ScoreFinal.csv', '~$337947085-Dsur-i-Chapter-05-Exploring-Assumptions.pptx', 'Food Nutrition (3)(1).xlsx', 'Pandas & Data Visualization - Honey Production Kaggle Dataset (2)(2).html', 'SMDM - Week 3.pdf', 's10-basic-statistics-English.pdf', 'Book 7_Python(1).docx', 'data(1).csv', '574_m5_datasets_v3.0(1).zip', 'IMG-20200102-WA0010.jpg', 'oww7zdmffxi.html', 'video.py', '574_m4_case_study_2_v3.1.pdf', 'AirBnB - Linear Regression-2.html', 'Cars2015.csv', 'Insurance Case Study_Solution.ipynb', 'AS  Week 1.pdf', 'Untitled9.ipynb', 'bio-degradabale-data.csv', 'WhatsApp Image 2020-01-13 at 23.14.43.jpeg', '~$ok 7_Python(1).docx', 'Golfball.csv', 'AllCountries.csv', 'Probability Distributions_Solutions.ipynb', 'Code(2).ipynb', 'Test_class2.txt', '574_m3_case_study_3_soln_v3.0.ipynb', '~$Module 6 - Week 1-1.ppt', 'Saurav.jpeg', '~$Business-plan-template-Excel-free.xlsx', 'ANOVA- Practice Exercise.pdf', '574_m4_case_study_sol_4_v3.0.ipynb', 'Code 2(5).ipynb', 'Insurance Case Study_Student(1).ipynb', '~$337946709-Dsur-i-Chapter-03-the-r-Environment-3.pptx', 'FyntraCustomerData.csv', 'How are we Doing.atp', 'jxrh92o0se.zip', 'SMDM - Week 1.pdf', 'Album Sales 1(1).dat']), ('/Users/shikhar/Downloads/Case-study2', [], ['.DS_Store']), ('/Users/shikhar/Downloads/Video Recording_Case Study', ['.ipynb_checkpoints'], ['car-mpg.csv', 'mpg-linear+regression_statsmodel.ipynb']), ('/Users/shikhar/Downloads/Video Recording_Case Study/.ipynb_checkpoints', [], ['mpg-linear+regression_statsmodel-checkpoint.ipynb']), ('/Users/shikhar/Downloads/xxy7e56wxp', [], ['Slide16.py', 'news.jpg', 'beauty.png', 'Video Capturing.py', 'Penguins.jpg', 'Motion_detector.py', 'Slide17.py', 'Slide28.py', 'haarcascade_eye.xml', 'plotting.py', 'slide81_85.py', 'Basic Operations.py', 'test.py', 'photo.jpg', '52_55.py', 'motion_detect.py', 'haarcascade_frontalface_default.xml', 'Face Detection.py', '40-49.py', 'Slide20.py', 'slide30.py', 'Slide21.py', 'Saurav.jpeg', 'output.avi']), ('/Users/shikhar/Downloads/Flight price prediction_Project_Note_2_', [], ['Flight price prediction_Project_Note_2_.Rmd', 'Capstone Project PROJECT NOTES - II.docx']), ('/Users/shikhar/Downloads/ap', [], ['.DS_Store', 'ap.txt', 'vocab.txt']), ('/Users/shikhar/Downloads/775_m2_codes_v1.0 2', ['.idea'], ['diff_tup_list.py', 'list_oper.py', 'tupindict.py', 'str_oper.py', 'listin.py', 'tup_oper.py', 'soln.py', 'Python.txt', '5_14.py', 'Test.py', 'Edureka_Py.txt', 'assign.soln', 'list_tup.py', '11111_Edureka_Py.txt', 'input.py', 'setindicct.py', 'set_opr.py', 'dict.py', 'operation_file.py', 'Sequence_oper.py']), ('/Users/shikhar/Downloads/775_m2_codes_v1.0 2/.idea', [], ['workspace.xml', 'modules.xml', 'misc.xml', 'DS_mod2.iml']), ('/Users/shikhar/Downloads/574_m4_datasets_v3.0', [], ['.DS_Store']), ('/Users/shikhar/Downloads/Python-Project-Solutions', ['.ipynb_checkpoints'], ['movie lens part 2.ipynb', 'NYC.ipynb']), ('/Users/shikhar/Downloads/Python-Project-Solutions/.ipynb_checkpoints', [], ['movie lens part 2-checkpoint.ipynb', 'NYC-checkpoint.ipynb']), ('/Users/shikhar/Downloads/Shinysample', [], ['app.R']), ('/Users/shikhar/Downloads/775_m2_codes_v1.0 3', ['.idea'], ['diff_tup_list.py', 'list_oper.py', 'tupindict.py', 'str_oper.py', 'listin.py', 'tup_oper.py', 'soln.py', '111_Edureka_Py.txt', 'Python.txt', '5_14.py', 'Test.py', 'assign.soln', 'list_tup.py', 'input.py', 'setindicct.py', 'set_opr.py', 'dict.py', 'operation_file.py', 'Sequence_oper.py']), ('/Users/shikhar/Downloads/775_m2_codes_v1.0 3/.idea', [], ['workspace.xml', 'modules.xml', 'misc.xml', 'DS_mod2.iml']), ('/Users/shikhar/Downloads/hypothesis-testing-using-t-test_files', [], []), ('/Users/shikhar/Downloads/Case Studies - Annalect India - Lead Position', ['Raw Files for Case #2 - Mercer'], ['.DS_Store', '#1_GOSS India_Health And Benefits Analysts_ Case StudyBenefits harmonization.docx']), ('/Users/shikhar/Downloads/Case Studies - Annalect India - Lead Position/Raw Files for Case #2 - Mercer', [], ['#2_Fiscal Year 2016.xlsx', '.DS_Store', '#2_Census Data.xlsx', '#2_Reference Tables (For Candidate).xlsx']), ('/Users/shikhar/Downloads/PROBLEM', [], ['Problem Overview.doc', 'Test dataset.csv', 'Problem Statement.doc', '~$Data Dictionary.xlsx', 'Train dataset.csv', 'Data Dictionary.xlsx']), ('/Users/shikhar/Downloads/Project_Debrief_files', [], []), ('/Users/shikhar/Downloads/DS_mod5', ['.idea'], ['sum_slide_13.py', 'ndim_slide_8.py', 'iterrows_slide_17.py', 'slide_61.py', 'values_slide_10.py', 'slide_64.py', 'axes_slide_9.py', 'slide_40-56.py', 'slide_19-38.py', 'iteritems_slide_16.py', 'tail_slide_12.py', 'Ndim.py', 'sum_slide_14.py', 'head_slide_11.py', 'std_slide_15.py', 'itertuples_slide_18.py']), ('/Users/shikhar/Downloads/DS_mod5/.idea', [], ['In_class_practicals.iml', 'workspace.xml', 'modules.xml', 'DS_mod6.iml', 'misc.xml']), ('/Users/shikhar/Downloads/RE attempt-PM-GA-Grp.1', [], ['script.docx', 'Problem Statement_ Group 1.docx', 'PaulBooks1.csv', 'script.Rmd', 'PaulBooks2.csv']), ('/Users/shikhar/Downloads/__pycache__', [], ['new.cpython-37.pyc', 'Welcome.cpython-37.pyc']), ('/Users/shikhar/Downloads/rar', [], ['whatsnew.txt', 'rar.txt', 'acknow.txt', 'order.htm', 'rar', 'rarfiles.lst', 'unrar', 'readme.txt', 'default.sfx', 'license.txt']), ('/Users/shikhar/Downloads/2017', ['charts', 'data'], []), ('/Users/shikhar/Downloads/2017/charts', [], []), ('/Users/shikhar/Downloads/2017/data', [], []), ('/Users/shikhar/Downloads/Calibri and Cambria Fonts', [], ['Constantia.ttf', 'Consolas.ttf', 'Cambria Italic.ttf', 'Constantia Italic.ttf', 'Calibri Bold Italic.ttf', 'Corbel.ttf', 'Candara Italic.ttf', 'Corbel Bold.ttf', 'Candara Bold Italic.ttf', 'Constantia Bold.ttf', 'Candara.ttf', 'Cambria.ttf', 'Consolas Bold Italic.ttf', 'Calibri Bold.ttf', 'Calibri Italic.ttf', 'Candara Bold.ttf', 'Consolas Italic.ttf', 'Corbel Bold Italic.ttf', 'Constantia Bold Italic.ttf', 'Corbel Italic.ttf', 'Cambria Bold.ttf', 'Calibri.ttf', 'Consolas Bold.ttf', 'Cambria Bold Italic.ttf']), ('/Users/shikhar/Downloads/574_m5_datasets_v3.0(1)', [], ['Salaries.csv', 'HollywoodMovies.csv', 'AllCountries.csv']), ('/Users/shikhar/Downloads/BuildingMachineLearningSystemswithPythonThirdedition_Code', ['Chapter05', 'Chapter02', 'Chapter03', 'Chapter04', 'Chapter10', 'Chapter11', 'Chapter08', 'Chapter01', 'Chapter06', 'Chapter07', 'Chapter09', 'SimpleImageDataset', 'Chapter13', 'Chapter14', 'Chapter12'], ['environment.yml', 'Software_Hardware_list.pdf', 'README.txt']), ('/Users/shikhar/Downloads/BuildingMachineLearningSystemswithPythonThirdedition_Code/Chapter05', [], ['chapter_05.ipynb']), ('/Users/shikhar/Downloads/BuildingMachineLearningSystemswithPythonThirdedition_Code/Chapter02', ['tests', 'data'], ['chapter_02.ipynb', 'README.rst', 'load.py']), ('/Users/shikhar/Downloads/BuildingMachineLearningSystemswithPythonThirdedition_Code/Chapter02/tests', [], ['test_load.py']), ('/Users/shikhar/Downloads/BuildingMachineLearningSystemswithPythonThirdedition_Code/Chapter02/data', [], ['seeds.tsv']), ('/Users/shikhar/Downloads/BuildingMachineLearningSystemswithPythonThirdedition_Code/Chapter03', ['data'], ['chapter_03.ipynb']), ('/Users/shikhar/Downloads/BuildingMachineLearningSystemswithPythonThirdedition_Code/Chapter03/data', [], ['.gitignore', 'download.sh']), ('/Users/shikhar/Downloads/BuildingMachineLearningSystemswithPythonThirdedition_Code/Chapter04', ['data'], ['chapter_04.ipynb']), ('/Users/shikhar/Downloads/BuildingMachineLearningSystemswithPythonThirdedition_Code/Chapter04/data', [], ['download.sh']), ('/Users/shikhar/Downloads/BuildingMachineLearningSystemswithPythonThirdedition_Code/Chapter10', ['data'], ['wikitopics_create.py', 'Topic modeling.ipynb', 'wikitopics_create_hdp.py', 'README.rst']), ('/Users/shikhar/Downloads/BuildingMachineLearningSystemswithPythonThirdedition_Code/Chapter10/data', [], ['download_wp.sh', 'download_ap.sh', '.gitignore', 'preprocess-wikidata.sh']), ('/Users/shikhar/Downloads/BuildingMachineLearningSystemswithPythonThirdedition_Code/Chapter11', [], ['chapter_11.ipynb']), ('/Users/shikhar/Downloads/BuildingMachineLearningSystemswithPythonThirdedition_Code/Chapter08', [], ['chapter_08.ipynb']), ('/Users/shikhar/Downloads/BuildingMachineLearningSystemswithPythonThirdedition_Code/Chapter01', ['data'], ['chapter_01.ipynb']), ('/Users/shikhar/Downloads/BuildingMachineLearningSystemswithPythonThirdedition_Code/Chapter01/data', [], ['web_traffic.tsv']), ('/Users/shikhar/Downloads/BuildingMachineLearningSystemswithPythonThirdedition_Code/Chapter06', ['data'], ['chapter_06.ipynb']), ('/Users/shikhar/Downloads/BuildingMachineLearningSystemswithPythonThirdedition_Code/Chapter06/data', ['toy'], []), ('/Users/shikhar/Downloads/BuildingMachineLearningSystemswithPythonThirdedition_Code/Chapter06/data/toy', [], ['01.txt', '02.txt', '03.txt', '04.txt', '05.txt']), ('/Users/shikhar/Downloads/BuildingMachineLearningSystemswithPythonThirdedition_Code/Chapter07', ['apriori', 'data'], ['stacked.py', 'Recommendations.ipynb', 'README.rst', 'load_ml100k.py']), ('/Users/shikhar/Downloads/BuildingMachineLearningSystemswithPythonThirdedition_Code/Chapter07/apriori', [], ['apriori_naive.py', 'apriori.py', 'apriori_example.py', '.gitignore', 'download.sh']), ('/Users/shikhar/Downloads/BuildingMachineLearningSystemswithPythonThirdedition_Code/Chapter07/data', [], ['.gitignore', 'download.sh']), ('/Users/shikhar/Downloads/BuildingMachineLearningSystemswithPythonThirdedition_Code/Chapter09', ['data'], ['chapter_09.ipynb', 'twitterauth.py']), ('/Users/shikhar/Downloads/BuildingMachineLearningSystemswithPythonThirdedition_Code/Chapter09/data', [], ['not_authorized.tsv', 'corpus.csv', 'missing.tsv']), ('/Users/shikhar/Downloads/BuildingMachineLearningSystemswithPythonThirdedition_Code/SimpleImageDataset', [], ['text20.jpg', 'building13.jpg', 'text08.jpg', 'building07.jpg', 'scene07.jpg', 'scene13.jpg', 'scene12.jpg', 'scene06.jpg', 'text09.jpg', 'building06.jpg', 'building12.jpg', 'text21.jpg', 'text23.jpg', 'building04.jpg', 'building10.jpg', 'scene10.jpg', 'scene04.jpg', 'scene05.jpg', 'scene11.jpg', 'building11.jpg', 'building05.jpg', 'text22.jpg', 'building01.jpg', 'building15.jpg', 'building29.jpg', 'text26.jpg', 'scene29.jpg', 'scene15.jpg', 'scene01.jpg', 'scene00.jpg', 'scene14.jpg', 'scene28.jpg', 'building28.jpg', 'text27.jpg', 'building14.jpg', 'building00.jpg', 'text19.jpg', 'building16.jpg', 'building02.jpg', 'text25.jpg', 'scene02.jpg', 'scene16.jpg', 'scene17.jpg', 'scene03.jpg', 'text24.jpg', 'building03.jpg', 'text18.jpg', 'building17.jpg', 'text01.jpg', 'text15.jpg', 'text29.jpg', 'building26.jpg', 'scene26.jpg', 'scene27.jpg', 'text28.jpg', 'building27.jpg', 'text14.jpg', 'text00.jpg', 'building19.jpg', 'text16.jpg', 'text02.jpg', 'building25.jpg', 'scene25.jpg', 'scene19.jpg', 'scene18.jpg', 'scene24.jpg', 'building24.jpg', 'text03.jpg', 'building18.jpg', 'text17.jpg', 'building20.jpg', 'text13.jpg', 'building08.jpg', 'text07.jpg', 'scene08.jpg', 'scene20.jpg', 'scene21.jpg', 'scene09.jpg', 'building09.jpg', 'text06.jpg', 'text12.jpg', 'building21.jpg', 'building23.jpg', 'text04.jpg', 'text10.jpg', 'scene23.jpg', 'scene22.jpg', 'text11.jpg', 'text05.jpg', 'building22.jpg']), ('/Users/shikhar/Downloads/BuildingMachineLearningSystemswithPythonThirdedition_Code/Chapter13', [], ['tf_breakout.py', 'simple_breakout.py', 'chapter_13.ipynb']), ('/Users/shikhar/Downloads/BuildingMachineLearningSystemswithPythonThirdedition_Code/Chapter14', [], ['chapter.py', 'jugfile.py', 'features.py', 'setup-aws.txt', 'image-classification.py', 'README.rst', 'run-jugfile.sh', 'run-image-classification.sh']), ('/Users/shikhar/Downloads/BuildingMachineLearningSystemswithPythonThirdedition_Code/Chapter12', ['ch12_3rd'], ['scene00.jpg', 'forest.jpeg', 'download.sh', 'Computer Vision.ipynb', 'README.rst']), ('/Users/shikhar/Downloads/BuildingMachineLearningSystemswithPythonThirdedition_Code/Chapter12/ch12_3rd', [], ['chapter_12.ipynb']), ('/Users/shikhar/Downloads/0pu3920ijc', ['__pycache__', '.idea'], ['costr_des.py', 'instance_var.py', 'built-in_class.py', 'one.py', 'exception.py', 'os_path.py', 'class_def.py', 'try_finally.py', 'constr.py', 'def_method.py', 'subprocess.py', 'xrange.py', 'main_name.py', 'two.py', 'req_excp.py', 'random_pract.py', 'multi_inheri.py', 'def_arg.py', 'polymorphism_1.py', 'key_arg.py', 'inheri.py', 'user_def_attr.py', 'sysm.py', 'lambda_func.py', 'subpro.py', 'get_set.py', 'overriding_method.py', 'example.py', 'priv.py', 'try_except.py', 'boston-dataset.csv', 'funct_def.py', 'Multi_constr.py', 'maths_mod.py', 'date_time.py', 're_mod.py', 'pub_pri_pro.py', 'memadd.py', 'user_def.py', 'public_private_protected.py', 'enumerate.py', 'os_mod.py', 'user_excep.py', 'mod.py', 'testfile', 'var_len_arg.py', 'scope.py', 'func.py', 'creating_class.py']), ('/Users/shikhar/Downloads/0pu3920ijc/__pycache__', [], ['one.cpython-37.pyc', 'one.cpython-36.pyc', 'subprocess.cpython-36.pyc']), ('/Users/shikhar/Downloads/0pu3920ijc/.idea', ['dictionaries'], ['workspace.xml', 'modules.xml', 'misc.xml', 'DS_mod3.iml']), ('/Users/shikhar/Downloads/0pu3920ijc/.idea/dictionaries', [], ['adhyapakss.xml']), ('/Users/shikhar/Downloads/574_m5_datasets_v3.0', [], ['.DS_Store']), ('/Users/shikhar/Downloads/Machine_Learning_Algorithms_Practice_-_SimpliLearn_Script_files', [], []), ('/Users/shikhar/Downloads/8v4mqr1qvbj', ['.idea'], ['hello.py', 'tuple.py', 'nest.py', 'list.py', 'num.py', 'ifelif.py', 'while.py', 'var.py', 'loop_control.py', 'for.py', 'dict.py', 'string.py', 'operators.py', 'set.py']), ('/Users/shikhar/Downloads/8v4mqr1qvbj/.idea', [], ['workspace.xml', 'modules.xml', 'DS.iml', 'misc.xml']), ('/Users/shikhar/Downloads/Final - EY -Content', [], ['AI_Awareness Session-Final - EY.pdf', 'RPA_Awareness Session.pdf', 'RPA_Detailed Session.pdf', 'Blockchain Awareness Session.pdf', 'BlockChain_Detailed Session.pdf', 'AI_Detailed Session-Final - EY.pdf', 'Business Analytics_Detailed Session.pdf', 'Business Analytics_Awareness Session.pdf']), ('/Users/shikhar/Downloads/775_m2_codes_v1.0', ['.idea'], ['diff_tup_list.py', 'list_oper.py', 'tupindict.py', 'str_oper.py', 'listin.py', 'tup_oper.py', 'soln.py', 'Python.txt', '5_14.py', 'Test.py', 'Edureka_Py.txt', 'assign.soln', 'list_tup.py', 'input.py', 'setindicct.py', 'set_opr.py', 'dict.py', 'operation_file.py', 'Sequence_oper.py']), ('/Users/shikhar/Downloads/775_m2_codes_v1.0/.idea', [], ['workspace.xml', 'modules.xml', 'misc.xml', 'DS_mod2.iml']), ('/Users/shikhar/Downloads/.ipynb_checkpoints', [], ['Code (7)-checkpoint.ipynb', 'Code 1 (7)-checkpoint.ipynb', 'gmse5aof37-checkpoint.ipynb', 'fspqr5qgb9-checkpoint.ipynb', '574_m7_assign_sol_2_v3.0(1)-checkpoint.ipynb', 'Untitled10-checkpoint.ipynb', 'california-housing-value-prediction-checkpoint.ipynb', 'Untitled3-checkpoint.ipynb', 'Code 1 (2)-checkpoint.ipynb', 'Code (2)-checkpoint.ipynb', '574_m3_case_study_3_soln_v3.0-checkpoint.ipynb', 'NLTK with Python-checkpoint.ipynb', 'Untitled8-checkpoint.ipynb', '574_m4_case_study_sol_3_v3.0-checkpoint.ipynb', 'Code (6)-checkpoint.ipynb', 'Code 1 (6)-checkpoint.ipynb', '574_m4_case_study_sol_1_v3.0(1)-checkpoint.ipynb', 'Insurance Case Study_Student-checkpoint.ipynb', 'Practice_Exercise_Inferential_Statistics_Student_File-checkpoint.ipynb', 'Untitled7-checkpoint.ipynb', '574_m4_case_study_sol_1_v3.0-checkpoint.ipynb', 'Untitled14-checkpoint.ipynb', 'Predicting Salary using OLS SLR-checkpoint.ipynb', 'Code (5)-checkpoint.ipynb', 'Untitled2-checkpoint.ipynb', 'movie lens part 2-checkpoint.ipynb', 'Code 1 (5)-checkpoint.ipynb', 'Untitled11-checkpoint.ipynb', 'gmse5aof37 (1)-checkpoint.ipynb', '574_m10_assign_sol_2_v3.0-checkpoint.ipynb', 'Insurance Case Study_Solution-checkpoint.ipynb', 'File for the First Session - Python Programming with Edureka-checkpoint.ipynb', '574_m6_assign_sol_3_v3.0-checkpoint.ipynb', 'Untitled9-checkpoint.ipynb', 'Code 1 (10)-checkpoint.ipynb', 'Code 2 (9)-checkpoint.ipynb', 'Code(8)-checkpoint.ipynb', 'Code (4)-checkpoint.ipynb', 'k-means class script-checkpoint.ipynb', 'horses-checkpoint.ipynb', 'AirBnB - Linear Regression-checkpoint.ipynb', '574_m3_case_study_2_soln_v3.0-checkpoint.ipynb', 'Code 1 (1)-checkpoint.ipynb', 'GL - Sat - Feb-09-2020 - Python Doubt clearing session-checkpoint.ipynb', 'Code (1)-checkpoint.ipynb', 'Code 1-checkpoint.ipynb', 'Comcast_telecom_complaints-checkpoint.ipynb', 'Untitled15-checkpoint.ipynb', 'Untitled6-checkpoint.ipynb', '574_m6_assign_sol_1_v3.0-checkpoint.ipynb', 'NLTKClass-checkpoint.ipynb', 'Code(9)-checkpoint.ipynb', '574_m5_case_study_sol_2_v3.0-checkpoint.ipynb', 'chapter_04-checkpoint.ipynb', '574_m7_assign_sol_2_v3.0-checkpoint.ipynb', 'Code (8)-checkpoint.ipynb', 'Code 2 (1)-checkpoint.ipynb', 'Code 2(3)-checkpoint.ipynb', '574_m4_case_study_sol_2_v3.0-checkpoint.ipynb', 'Decision Tree MCQ Solution-checkpoint.ipynb', 'Untitled12-checkpoint.ipynb', 'Code-checkpoint.ipynb', 'Untitled1-checkpoint.ipynb', 'Code 1(3)-checkpoint.ipynb', 'Probability Distributions_Solutions-checkpoint.ipynb', 'Food_Nutrition_Intro_to_Python (3)-checkpoint.ipynb', 'Clustering MCQ-checkpoint.ipynb', 'Code 2 (4)-checkpoint.ipynb', 'Code (10)-checkpoint.ipynb', 'SimpliLearn - California Housing Prediction-checkpoint.ipynb', 'Code 2-checkpoint.ipynb', 'code (9)-checkpoint.ipynb', 'Code 2(2)-checkpoint.ipynb', 'Untitled5-checkpoint.ipynb', 'code(1)-checkpoint.ipynb', 'Untitled16-checkpoint.ipynb', 'Code 1(2)-checkpoint.ipynb', 'Code(4)-checkpoint.ipynb', 'GL - Sat - Feb-08-2020 - Python Doubt clearing session-checkpoint.ipynb', 'Code 2 (5)-checkpoint.ipynb', 'Titan_casestudy_tests_Solution (1)-checkpoint.ipynb', 'Untitled-checkpoint.ipynb', 'Insurance Case Study_Student(1)-checkpoint.ipynb', '574_m6_assign_sol_2_v3.0-checkpoint.ipynb', '574_m5_case_study_sol_1_v3.0-checkpoint.ipynb', 'Practice_Exercise_Inferential_Statistics_solution (2)-checkpoint.ipynb', 'Code-4-checkpoint.ipynb', 'Code 1(4)-checkpoint.ipynb', 'Code 2(1)-checkpoint.ipynb', 'GolfBall_OneWayAnova_Solutions-checkpoint.ipynb', 'Untitled18-checkpoint.ipynb', 'Code(2)-checkpoint.ipynb', 'chapter_05-checkpoint.ipynb', 'hziif08sj (1)-checkpoint.ipynb', 'Code 1(1)-checkpoint.ipynb', 'PolyReg-checkpoint.ipynb', 'Code(7)-checkpoint.ipynb', 'Code 2 (6)-checkpoint.ipynb', 'Code 2(4)-checkpoint.ipynb', '574_m10_assign_sol_3_v3.0-checkpoint.ipynb', 'Titan_casestudy_tests_Student-1-checkpoint.ipynb', 'GolfBall_OneWayAnova_Student-checkpoint.ipynb', 'Untitled13-checkpoint.ipynb', 'Untitled17-checkpoint.ipynb', 'Untitled4-checkpoint.ipynb', 'Code 1(5)-checkpoint.ipynb', 'oww7zdmffxi-checkpoint.ipynb', 'Naive Bayes-checkpoint.ipynb', 'Code(3)-checkpoint.ipynb', 'k-means live in class-checkpoint.ipynb', '574_m4_case_study_sol_4_v3.0-checkpoint.ipynb', '574_m10_assign_sol_1_v3.0-checkpoint.ipynb', 'Breast Cancer - Dimensionality Reduction-checkpoint.ipynb', 'Code(6)-checkpoint.ipynb', 'Pandas & Data Visualization - Honey Production Kaggle Dataset (2)-checkpoint.ipynb', 'Code 2(5)-checkpoint.ipynb']), ('/Users/shikhar/Downloads/Fine', [], ['app.R']), ('/Users/shikhar/Downloads/574_m4_datasets_v3.0(1)', [], ['MathScoreTerm1.csv', 'PhysicsScoreTerm1.csv', 'Hurricanes.csv', 'sample-salesv2.csv', 'BigMartSalesData.csv', 'SalaryGender.csv', 'CityTemps.csv', 'DSScoreTerm1.csv', 'middle_tn_schools.csv', 'ScoreFinal.csv', 'Cars2015.csv']), ('/Users/shikhar/Downloads/574_m4_datasets_v3.0 2', [], ['MathScoreTerm1.csv', 'PhysicsScoreTerm1.csv', 'Hurricanes.csv', 'sample-salesv2.csv', 'BigMartSalesData.csv', 'SalaryGender.csv', 'CityTemps.csv', 'DSScoreTerm1.csv', 'middle_tn_schools.csv', 'ScoreFinal.csv', 'Cars2015.csv']), ('/Users/shikhar/Downloads/c88x4d71we 2', ['__pycache__', '.idea'], ['costr_des.py', 'instance_var.py', 'built-in_class.py', 'one.py', 'exception.py', 'os_path.py', 'class_def.py', 'try_finally.py', 'constr.py', 'def_method.py', 'subprocess.py', 'xrange.py', 'main_name.py', 'two.py', 'req_excp.py', 'random_pract.py', 'multi_inheri.py', 'def_arg.py', 'polymorphism_1.py', 'key_arg.py', 'inheri.py', 'user_def_attr.py', 'sysm.py', 'lambda_func.py', 'subpro.py', 'get_set.py', 'overriding_method.py', 'example.py', 'priv.py', 'try_except.py', 'boston-dataset.csv', 'funct_def.py', 'Multi_constr.py', 'maths_mod.py', 'date_time.py', 're_mod.py', 'pub_pri_pro.py', 'memadd.py', 'user_def.py', 'public_private_protected.py', 'enumerate.py', 'os_mod.py', 'user_excep.py', 'mod.py', 'testfile', 'var_len_arg.py', 'scope.py', 'func.py', 'creating_class.py']), ('/Users/shikhar/Downloads/c88x4d71we 2/__pycache__', [], ['one.cpython-36.pyc', 'subprocess.cpython-36.pyc']), ('/Users/shikhar/Downloads/c88x4d71we 2/.idea', ['dictionaries'], ['workspace.xml', 'modules.xml', 'misc.xml', 'DS_mod3.iml']), ('/Users/shikhar/Downloads/c88x4d71we 2/.idea/dictionaries', [], ['adhyapakss.xml']), ('/Users/shikhar/Downloads/Comcast_and_Filtering', [], ['.DS_Store', 'Collaberative filtering_final (1) (1).ipynb']), ('/Users/shikhar/Downloads/Prestige_files', ['figure-html'], []), ('/Users/shikhar/Downloads/Prestige_files/figure-html', [], ['unnamed-chunk-2-1.png', 'unnamed-chunk-2-2.png', 'unnamed-chunk-2-3.png'])]\n"
     ]
    }
   ],
   "source": [
    "print(list(files))"
   ]
  },
  {
   "cell_type": "code",
   "execution_count": 224,
   "metadata": {
    "ExecuteTime": {
     "end_time": "2020-03-01T17:07:51.336364Z",
     "start_time": "2020-03-01T17:07:51.325864Z"
    }
   },
   "outputs": [
    {
     "name": "stdout",
     "output_type": "stream",
     "text": [
      "11\n"
     ]
    }
   ],
   "source": [
    "import math\n",
    "\n",
    "print(math.ceil(10.098))\n",
    "\n"
   ]
  },
  {
   "cell_type": "code",
   "execution_count": 225,
   "metadata": {
    "ExecuteTime": {
     "end_time": "2020-03-01T17:07:57.407815Z",
     "start_time": "2020-03-01T17:07:57.390470Z"
    }
   },
   "outputs": [
    {
     "name": "stdout",
     "output_type": "stream",
     "text": [
      "-10.0\n",
      "19.7\n",
      "148.4131591025766\n",
      "6.38905609893065\n",
      "1.0\n"
     ]
    }
   ],
   "source": [
    "print(math.copysign(10,-1))\n",
    "\n",
    "print(math.fabs(-19.7))\n",
    "\n",
    "print(math.exp(5))\n",
    "\n",
    "print(math.expm1(2))\n",
    "\n",
    "print(math.log(10,10))\n",
    "\n",
    "\n"
   ]
  },
  {
   "cell_type": "code",
   "execution_count": 226,
   "metadata": {
    "ExecuteTime": {
     "end_time": "2020-03-01T17:08:52.149243Z",
     "start_time": "2020-03-01T17:08:52.136467Z"
    }
   },
   "outputs": [
    {
     "name": "stdout",
     "output_type": "stream",
     "text": [
      "1.0471975511965976\n",
      "0.5235987755982988\n",
      "1.373400766945016\n",
      "-0.9899924966004454\n",
      "5.729577951308233\n",
      "0.0999999972719067\n",
      "3.141592653589793\n",
      "2.718281828459045\n"
     ]
    }
   ],
   "source": [
    "\n",
    "print(math.acos(0.5))\n",
    "\n",
    "print(math.asin(0.5))\n",
    "\n",
    "print(math.atan(5))\n",
    "\n",
    "print(math.cos(3))\n",
    "\n",
    "print(math.degrees(0.1))\n",
    "\n",
    "print(math.radians(5.729577795))\n",
    "\n",
    "print(math.pi)\n",
    "\n",
    "print(math.e)"
   ]
  },
  {
   "cell_type": "code",
   "execution_count": 227,
   "metadata": {
    "ExecuteTime": {
     "end_time": "2020-03-01T17:09:06.023307Z",
     "start_time": "2020-03-01T17:09:06.006861Z"
    }
   },
   "outputs": [
    {
     "data": {
      "text/plain": [
       "['__doc__',\n",
       " '__file__',\n",
       " '__loader__',\n",
       " '__name__',\n",
       " '__package__',\n",
       " '__spec__',\n",
       " 'acos',\n",
       " 'acosh',\n",
       " 'asin',\n",
       " 'asinh',\n",
       " 'atan',\n",
       " 'atan2',\n",
       " 'atanh',\n",
       " 'ceil',\n",
       " 'copysign',\n",
       " 'cos',\n",
       " 'cosh',\n",
       " 'degrees',\n",
       " 'e',\n",
       " 'erf',\n",
       " 'erfc',\n",
       " 'exp',\n",
       " 'expm1',\n",
       " 'fabs',\n",
       " 'factorial',\n",
       " 'floor',\n",
       " 'fmod',\n",
       " 'frexp',\n",
       " 'fsum',\n",
       " 'gamma',\n",
       " 'gcd',\n",
       " 'hypot',\n",
       " 'inf',\n",
       " 'isclose',\n",
       " 'isfinite',\n",
       " 'isinf',\n",
       " 'isnan',\n",
       " 'ldexp',\n",
       " 'lgamma',\n",
       " 'log',\n",
       " 'log10',\n",
       " 'log1p',\n",
       " 'log2',\n",
       " 'modf',\n",
       " 'nan',\n",
       " 'pi',\n",
       " 'pow',\n",
       " 'radians',\n",
       " 'remainder',\n",
       " 'sin',\n",
       " 'sinh',\n",
       " 'sqrt',\n",
       " 'tan',\n",
       " 'tanh',\n",
       " 'tau',\n",
       " 'trunc']"
      ]
     },
     "execution_count": 227,
     "metadata": {},
     "output_type": "execute_result"
    }
   ],
   "source": [
    "dir(math)"
   ]
  },
  {
   "cell_type": "code",
   "execution_count": 247,
   "metadata": {
    "ExecuteTime": {
     "end_time": "2020-03-01T17:12:50.349175Z",
     "start_time": "2020-03-01T17:12:50.323726Z"
    }
   },
   "outputs": [
    {
     "name": "stdout",
     "output_type": "stream",
     "text": [
      "<bound method Random.getstate of <random.Random object at 0x7fa1d0008e18>>\n",
      "3.3159780918365427\n",
      "31\n",
      "80\n",
      "2\n"
     ]
    }
   ],
   "source": [
    "import random\n",
    "random.seed(1010)\n",
    "print(random.getstate)\n",
    "\n",
    "print(random.uniform(6,2))\n",
    "\n",
    "\n",
    "import random\n",
    "\n",
    "num = random.randrange(100)\n",
    "print(num)\n",
    "\n",
    "ran=random.randrange(0,100,20)\n",
    "print(ran)\n",
    "\n",
    "inte=random.randint(0,30)\n",
    "print(inte)"
   ]
  },
  {
   "cell_type": "code",
   "execution_count": 248,
   "metadata": {
    "ExecuteTime": {
     "end_time": "2020-03-01T17:14:44.448755Z",
     "start_time": "2020-03-01T17:14:44.427968Z"
    }
   },
   "outputs": [
    {
     "name": "stdout",
     "output_type": "stream",
     "text": [
      "9999\n",
      "1\n",
      "<class 'datetime.time'>\n",
      "<class 'datetime.timezone'>\n",
      "2020-03-01 22:44:44.437948\n",
      "9121 days, 0:34:44.438063\n",
      "9121 days, 0:34:44.438063\n"
     ]
    }
   ],
   "source": [
    "import datetime\n",
    "\n",
    "print(datetime.MAXYEAR)\n",
    "\n",
    "print(datetime.MINYEAR)\n",
    "\n",
    "print(datetime.time)\n",
    "\n",
    "print(datetime.timezone)\n",
    "\n",
    "\n",
    "import datetime\n",
    "print(datetime.datetime.today())\n",
    "\n",
    "now=datetime.datetime.today()\n",
    "other=datetime.datetime(1995,3,12,22,10)\n",
    "print(now-other)\n",
    "datetime.timedelta(18901,55547,421000)\n",
    "print(now-other)"
   ]
  },
  {
   "cell_type": "code",
   "execution_count": null,
   "metadata": {},
   "outputs": [],
   "source": [
    "\n",
    "print(re.sub(r'abc','*','abcdef abcdef'))\n",
    "\n",
    "print(re.sub(r'[abc][123]','*','a1+b2+d4+e5'))\n",
    "\n",
    "print(re.sub(r'A.B', '*', 'A2B AxB AxxB A$B'))\n",
    "\n",
    "print(re.sub(r'AB+', '*', 'ABC ABBBBBBC AC'))\n",
    "\n",
    "print(re.sub(r'AB{3,6}', '*', 'ABB ABBB ABBBB ABBBBBBBBB'))\n",
    "\n",
    "print(re.sub('^abc', '*', 'abcdefgabc'))\n",
    "\n",
    "print(re.sub('abc$', '*', 'abcdefgabc'))\n",
    "\n",
    "print(re.sub(r'AB\\+', '*', 'AB+C'))\n",
    "\n",
    "print(re.sub(r'\\d', '*', '3 + 14 = 17'))\n",
    "\n",
    "print(re.sub(r'\\D', '*', '3 + 14 = 17'))\n",
    "\n",
    "\"\"\"print(re.sub(r'\\w', '*', 'This is a test. Or is it?'))\n",
    "\n",
    "print(re.sub(r'\\W', '*', 'This is a test. Or is it?'))\n",
    "\n",
    "print(re.sub(r'\\s', '*', 'This is a test. Or is it?'))\n",
    "\n",
    "print(re.sub(r'\\S', '*', 'This is a test. Or is it?'))\n",
    "\n",
    "print(re.sub(r'the(?= cat)', '*', 'the dog and the cat'))\n",
    "\n",
    "print(re.sub(r'(?<= )the', '*', 'Athens is the capital.'))\n",
    "\n",
    "print(re.sub(r'(?<!\\w)[Tt]he(?!\\w)', '*', 'The cat is on the lathe there.'))\n",
    "\n",
    "print(re.sub('(?i)ab', '*', 'ab AB'))\n",
    "\n",
    "\n",
    "\n",
    "\n",
    "\n",
    "# search and match\n",
    "\n",
    "print(re.search('ab','Here is an absolute string'))\n",
    "\n",
    "print(re.match('ab','Here is an absolute string'))\"\"\""
   ]
  },
  {
   "cell_type": "code",
   "execution_count": 255,
   "metadata": {
    "ExecuteTime": {
     "end_time": "2020-03-01T17:21:52.575734Z",
     "start_time": "2020-03-01T17:21:52.564138Z"
    }
   },
   "outputs": [
    {
     "name": "stdout",
     "output_type": "stream",
     "text": [
      "***de ***edf ***def *g*h*y\n"
     ]
    }
   ],
   "source": [
    "import re\n",
    "\n",
    "print(re.sub(r'[abc]','*','abcde abcedf abcdef agbhcy'))\n"
   ]
  },
  {
   "cell_type": "code",
   "execution_count": 256,
   "metadata": {
    "ExecuteTime": {
     "end_time": "2020-03-01T17:21:53.272889Z",
     "start_time": "2020-03-01T17:21:53.264561Z"
    }
   },
   "outputs": [
    {
     "name": "stdout",
     "output_type": "stream",
     "text": [
      "*def *def agbhcy\n"
     ]
    }
   ],
   "source": [
    "print(re.sub(r'abc','*','abcdef abcdef agbhcy'))"
   ]
  },
  {
   "cell_type": "code",
   "execution_count": 258,
   "metadata": {
    "ExecuteTime": {
     "end_time": "2020-03-01T17:22:54.389507Z",
     "start_time": "2020-03-01T17:22:54.378227Z"
    }
   },
   "outputs": [
    {
     "name": "stdout",
     "output_type": "stream",
     "text": [
      "*+*+c5+a5+e3+*+d4+e5\n"
     ]
    }
   ],
   "source": [
    "print(re.sub(r'[abc][123]','*','a1+b2+c5+a5+e3+c2+d4+e5'))"
   ]
  },
  {
   "cell_type": "code",
   "execution_count": 259,
   "metadata": {
    "ExecuteTime": {
     "end_time": "2020-03-01T17:23:40.030478Z",
     "start_time": "2020-03-01T17:23:40.022122Z"
    }
   },
   "outputs": [
    {
     "name": "stdout",
     "output_type": "stream",
     "text": [
      "* * AxxB *\n"
     ]
    }
   ],
   "source": [
    "print(re.sub(r'A.B', '*', 'A2B AxB AxxB A$B'))"
   ]
  },
  {
   "cell_type": "code",
   "execution_count": 263,
   "metadata": {
    "ExecuteTime": {
     "end_time": "2020-03-01T17:25:36.318157Z",
     "start_time": "2020-03-01T17:25:36.302379Z"
    }
   },
   "outputs": [
    {
     "name": "stdout",
     "output_type": "stream",
     "text": [
      "*C *C AC * ACBBBB AAAC*\n"
     ]
    }
   ],
   "source": [
    "print(re.sub(r'A+B+', '*', 'ABC ABBBBBBC AC AAAAAB ACBBBB AAACABBBB'))"
   ]
  },
  {
   "cell_type": "code",
   "execution_count": 265,
   "metadata": {
    "ExecuteTime": {
     "end_time": "2020-03-01T17:26:56.635895Z",
     "start_time": "2020-03-01T17:26:56.625614Z"
    }
   },
   "outputs": [
    {
     "name": "stdout",
     "output_type": "stream",
     "text": [
      "ABB AABBB AABBBB ABBBBBBBBB AAABB * AAAABB A*\n"
     ]
    }
   ],
   "source": [
    "print(re.sub(r'A{3}B{3,6}', '*', 'ABB AABBB AABBBB ABBBBBBBBB AAABB AAABBBB AAAABB AAAABBBB'))"
   ]
  },
  {
   "cell_type": "code",
   "execution_count": 271,
   "metadata": {
    "ExecuteTime": {
     "end_time": "2020-03-01T17:36:10.693877Z",
     "start_time": "2020-03-01T17:36:10.660510Z"
    }
   },
   "outputs": [
    {
     "name": "stdout",
     "output_type": "stream",
     "text": [
      "<re.Match object; span=(11, 13), match='ab'>\n",
      "None\n"
     ]
    },
    {
     "ename": "TypeError",
     "evalue": "unsupported operand type(s) for /: 'str' and 'int'",
     "output_type": "error",
     "traceback": [
      "\u001b[0;31m---------------------------------------------------------------------------\u001b[0m",
      "\u001b[0;31mTypeError\u001b[0m                                 Traceback (most recent call last)",
      "\u001b[0;32m<ipython-input-271-418f3d79ab19>\u001b[0m in \u001b[0;36m<module>\u001b[0;34m\u001b[0m\n\u001b[1;32m      2\u001b[0m \u001b[0;34m\u001b[0m\u001b[0m\n\u001b[1;32m      3\u001b[0m \u001b[0mprint\u001b[0m\u001b[0;34m(\u001b[0m\u001b[0mre\u001b[0m\u001b[0;34m.\u001b[0m\u001b[0mmatch\u001b[0m\u001b[0;34m(\u001b[0m\u001b[0;34m'ab'\u001b[0m\u001b[0;34m,\u001b[0m\u001b[0;34m'Here is an absolute string'\u001b[0m\u001b[0;34m)\u001b[0m\u001b[0;34m)\u001b[0m\u001b[0;34m\u001b[0m\u001b[0;34m\u001b[0m\u001b[0m\n\u001b[0;32m----> 4\u001b[0;31m \u001b[0;34m'a'\u001b[0m\u001b[0;34m/\u001b[0m\u001b[0;36m0\u001b[0m\u001b[0;34m\u001b[0m\u001b[0;34m\u001b[0m\u001b[0m\n\u001b[0m\u001b[1;32m      5\u001b[0m \u001b[0;36m1\u001b[0m\u001b[0;34m/\u001b[0m\u001b[0;36m0\u001b[0m\u001b[0;34m\u001b[0m\u001b[0;34m\u001b[0m\u001b[0m\n",
      "\u001b[0;31mTypeError\u001b[0m: unsupported operand type(s) for /: 'str' and 'int'"
     ]
    }
   ],
   "source": [
    "print(re.search('ab','Here is an absolute string'))\n",
    "\n",
    "print(re.match('ab','Here is an absolute string'))\n",
    "'a'/0\n",
    "1/0"
   ]
  },
  {
   "cell_type": "code",
   "execution_count": 276,
   "metadata": {
    "ExecuteTime": {
     "end_time": "2020-03-01T17:38:27.876195Z",
     "start_time": "2020-03-01T17:38:27.845085Z"
    }
   },
   "outputs": [
    {
     "name": "stdout",
     "output_type": "stream",
     "text": [
      "The entry is a\n",
      "Oops! <class 'ValueError'> occured\n",
      "Next Entry\n",
      "\n",
      "The entry is 0\n",
      "Oops! You entered 0 and hence <class 'ZeroDivisionError'> occured\n",
      "Next Entry\n",
      "\n",
      "The entry is 2\n",
      "The reciprocal of 2 is 0.5\n"
     ]
    }
   ],
   "source": [
    "import sys\n",
    "randomlist=['a',0,2]\n",
    "for entry in randomlist:\n",
    "    try:\n",
    "        print(\"The entry is\",entry)\n",
    "        r=1/int(entry)\n",
    "        break\n",
    "    except ZeroDivisionError:\n",
    "        print(\"Oops! You entered 0 and hence\",sys.exc_info()[0],\"occured\")\n",
    "        print(\"Next Entry\")\n",
    "        print()\n",
    "    except:\n",
    "        print(\"Oops!\",sys.exc_info()[0],\"occured\")\n",
    "        print(\"Next Entry\")\n",
    "        print()\n",
    "print(\"The reciprocal of\",entry,\"is\",r)\n"
   ]
  },
  {
   "cell_type": "code",
   "execution_count": 280,
   "metadata": {
    "ExecuteTime": {
     "end_time": "2020-03-01T17:40:52.189695Z",
     "start_time": "2020-03-01T17:40:52.163910Z"
    }
   },
   "outputs": [],
   "source": [
    "#!/usr/bin/python\n",
    "try:\n",
    "\tfh = open(\"testfile1\", \"w\")\n",
    "\tfh.write(\"This is my test file for exception handling!!\")\n",
    "except:\n",
    "\tprint(\"Error: can\\'t find file or read data\")\n",
    "finally:\n",
    "\tfh.close()"
   ]
  },
  {
   "cell_type": "code",
   "execution_count": 278,
   "metadata": {
    "ExecuteTime": {
     "end_time": "2020-03-01T17:40:28.338841Z",
     "start_time": "2020-03-01T17:40:28.323154Z"
    }
   },
   "outputs": [
    {
     "ename": "FileNotFoundError",
     "evalue": "[Errno 2] No such file or directory: 'testfile1'",
     "output_type": "error",
     "traceback": [
      "\u001b[0;31m---------------------------------------------------------------------------\u001b[0m",
      "\u001b[0;31mFileNotFoundError\u001b[0m                         Traceback (most recent call last)",
      "\u001b[0;32m<ipython-input-278-751288962e0e>\u001b[0m in \u001b[0;36m<module>\u001b[0;34m\u001b[0m\n\u001b[0;32m----> 1\u001b[0;31m \u001b[0mfh\u001b[0m \u001b[0;34m=\u001b[0m \u001b[0mopen\u001b[0m\u001b[0;34m(\u001b[0m\u001b[0;34m\"testfile1\"\u001b[0m\u001b[0;34m,\u001b[0m \u001b[0;34m\"r\"\u001b[0m\u001b[0;34m)\u001b[0m\u001b[0;34m\u001b[0m\u001b[0;34m\u001b[0m\u001b[0m\n\u001b[0m",
      "\u001b[0;31mFileNotFoundError\u001b[0m: [Errno 2] No such file or directory: 'testfile1'"
     ]
    }
   ],
   "source": [
    "fh = open(\"testfile1\", \"r\")"
   ]
  },
  {
   "cell_type": "code",
   "execution_count": 281,
   "metadata": {
    "ExecuteTime": {
     "end_time": "2020-03-01T17:44:56.509884Z",
     "start_time": "2020-03-01T17:43:17.153559Z"
    }
   },
   "outputs": [
    {
     "name": "stdout",
     "output_type": "stream",
     "text": [
      "Enter a number: 5\n",
      "This value is too small, try again!\n",
      "\n",
      "Enter a number: 32\n",
      "This value is too large, try again!\n",
      "\n",
      "Enter a number: 0\n",
      "This value is too small, try again!\n",
      "\n",
      "Enter a number: 100\n",
      "This value is too large, try again!\n",
      "\n",
      "Enter a number: 67\n",
      "This value is too large, try again!\n",
      "\n",
      "Enter a number: 32\n",
      "This value is too large, try again!\n",
      "\n",
      "Enter a number: 16\n",
      "This value is too large, try again!\n",
      "\n",
      "Enter a number: 8\n",
      "This value is too small, try again!\n",
      "\n",
      "Enter a number: 13\n",
      "This value is too large, try again!\n",
      "\n",
      "Enter a number: 11\n",
      "This value is too large, try again!\n",
      "\n",
      "Enter a number: 9\n",
      "This value is too small, try again!\n",
      "\n",
      "Enter a number: 10\n",
      "Congratulations! You guessed it correctly.\n"
     ]
    }
   ],
   "source": [
    "# define Python user-defined exceptions\n",
    "class Error(Exception):\n",
    "   \"\"\"Base class for other exceptions\"\"\"\n",
    "   pass\n",
    "\n",
    "class ValueSmallError(Error):\n",
    "   \"\"\"Raised when the input value is too small\"\"\"\n",
    "\n",
    "class ValueLargeError(Error):\n",
    "   \"\"\"Raised when the input value is too large\"\"\"\n",
    "   pass\n",
    "\n",
    "number = 10\n",
    "\n",
    "while True:\n",
    "   try:\n",
    "       in_num = int(input(\"Enter a number: \"))\n",
    "       if in_num < number:\n",
    "           raise ValueSmallError\n",
    "       elif in_num > number:\n",
    "           raise ValueLargeError\n",
    "       break\n",
    "   except ValueSmallError:\n",
    "       print(\"This value is too small, try again!\")\n",
    "       print()\n",
    "   except ValueLargeError:\n",
    "       print(\"This value is too large, try again!\")\n",
    "       print()\n",
    "print(\"Congratulations! You guessed it correctly.\")\n"
   ]
  },
  {
   "cell_type": "code",
   "execution_count": 285,
   "metadata": {
    "ExecuteTime": {
     "end_time": "2020-03-01T17:52:16.145753Z",
     "start_time": "2020-03-01T17:52:16.134559Z"
    }
   },
   "outputs": [
    {
     "name": "stdout",
     "output_type": "stream",
     "text": [
      "(0, 'bread')\n",
      "(1, 'milk')\n",
      "(2, 'butter')\n"
     ]
    }
   ],
   "source": [
    "grocery=['bread','milk','butter']\n",
    "enumGrocery=enumerate(grocery)\n",
    "#print(list(enumGrocery))\n",
    "for i in enumGrocery:\n",
    "    print(i)"
   ]
  },
  {
   "cell_type": "code",
   "execution_count": 286,
   "metadata": {
    "ExecuteTime": {
     "end_time": "2020-03-01T17:53:13.823318Z",
     "start_time": "2020-03-01T17:53:13.816295Z"
    }
   },
   "outputs": [],
   "source": [
    "str1 = 'Test String'"
   ]
  },
  {
   "cell_type": "code",
   "execution_count": 293,
   "metadata": {
    "ExecuteTime": {
     "end_time": "2020-03-01T17:54:50.569773Z",
     "start_time": "2020-03-01T17:54:50.543184Z"
    }
   },
   "outputs": [
    {
     "name": "stdout",
     "output_type": "stream",
     "text": [
      "gnirtS tseT\n",
      "gnir\n"
     ]
    }
   ],
   "source": [
    "print(str1[::-1])\n",
    "print(str1[:6:-1])"
   ]
  },
  {
   "cell_type": "code",
   "execution_count": 294,
   "metadata": {
    "ExecuteTime": {
     "end_time": "2020-03-01T17:58:54.291286Z",
     "start_time": "2020-03-01T17:58:54.276225Z"
    }
   },
   "outputs": [
    {
     "name": "stdout",
     "output_type": "stream",
     "text": [
      "('orange',)\n"
     ]
    }
   ],
   "source": [
    "x=(\"banana\",\"orange\",\"apple\")\n",
    "print(x[1:2])"
   ]
  },
  {
   "cell_type": "code",
   "execution_count": 295,
   "metadata": {
    "ExecuteTime": {
     "end_time": "2020-03-01T17:59:49.250572Z",
     "start_time": "2020-03-01T17:59:49.234743Z"
    }
   },
   "outputs": [
    {
     "data": {
      "text/plain": [
       "'banana'"
      ]
     },
     "execution_count": 295,
     "metadata": {},
     "output_type": "execute_result"
    }
   ],
   "source": [
    "x[0]"
   ]
  },
  {
   "cell_type": "code",
   "execution_count": 296,
   "metadata": {
    "ExecuteTime": {
     "end_time": "2020-03-01T17:59:56.152734Z",
     "start_time": "2020-03-01T17:59:56.126695Z"
    }
   },
   "outputs": [
    {
     "data": {
      "text/plain": [
       "'orange'"
      ]
     },
     "execution_count": 296,
     "metadata": {},
     "output_type": "execute_result"
    }
   ],
   "source": [
    "x[1]"
   ]
  },
  {
   "cell_type": "code",
   "execution_count": 297,
   "metadata": {
    "ExecuteTime": {
     "end_time": "2020-03-01T18:00:28.089575Z",
     "start_time": "2020-03-01T18:00:28.072759Z"
    }
   },
   "outputs": [
    {
     "data": {
      "text/plain": [
       "()"
      ]
     },
     "execution_count": 297,
     "metadata": {},
     "output_type": "execute_result"
    }
   ],
   "source": [
    "x[0:0]"
   ]
  },
  {
   "cell_type": "code",
   "execution_count": null,
   "metadata": {},
   "outputs": [],
   "source": []
  }
 ],
 "metadata": {
  "kernelspec": {
   "display_name": "Python 3",
   "language": "python",
   "name": "python3"
  },
  "language_info": {
   "codemirror_mode": {
    "name": "ipython",
    "version": 3
   },
   "file_extension": ".py",
   "mimetype": "text/x-python",
   "name": "python",
   "nbconvert_exporter": "python",
   "pygments_lexer": "ipython3",
   "version": "3.7.3"
  },
  "toc": {
   "base_numbering": 1,
   "nav_menu": {},
   "number_sections": true,
   "sideBar": true,
   "skip_h1_title": false,
   "title_cell": "Table of Contents",
   "title_sidebar": "Contents",
   "toc_cell": true,
   "toc_position": {},
   "toc_section_display": true,
   "toc_window_display": true
  }
 },
 "nbformat": 4,
 "nbformat_minor": 2
}
