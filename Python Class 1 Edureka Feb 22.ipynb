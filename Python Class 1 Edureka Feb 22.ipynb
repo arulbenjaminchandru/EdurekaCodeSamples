{
 "cells": [
  {
   "cell_type": "code",
   "execution_count": 2,
   "metadata": {},
   "outputs": [
    {
     "name": "stdout",
     "output_type": "stream",
     "text": [
      "Hello World\n"
     ]
    }
   ],
   "source": [
    "print('Hello World')"
   ]
  },
  {
   "cell_type": "markdown",
   "metadata": {},
   "source": [
    "#### My first python program notebook << shift + enter >>"
   ]
  },
  {
   "cell_type": "code",
   "execution_count": 3,
   "metadata": {},
   "outputs": [
    {
     "data": {
      "text/plain": [
       "' This is a multiline\\ncomment\\n'"
      ]
     },
     "execution_count": 3,
     "metadata": {},
     "output_type": "execute_result"
    }
   ],
   "source": [
    "''' This is a multiline\n",
    "comment\n",
    "'''"
   ]
  },
  {
   "cell_type": "code",
   "execution_count": 4,
   "metadata": {},
   "outputs": [
    {
     "data": {
      "text/plain": [
       "7"
      ]
     },
     "execution_count": 4,
     "metadata": {},
     "output_type": "execute_result"
    }
   ],
   "source": [
    "3+4"
   ]
  },
  {
   "cell_type": "code",
   "execution_count": 5,
   "metadata": {},
   "outputs": [
    {
     "name": "stdout",
     "output_type": "stream",
     "text": [
      "7\n"
     ]
    }
   ],
   "source": [
    "a=3\n",
    "b=4\n",
    "c=a+b\n",
    "print(c)"
   ]
  },
  {
   "cell_type": "code",
   "execution_count": 6,
   "metadata": {},
   "outputs": [
    {
     "name": "stdout",
     "output_type": "stream",
     "text": [
      "Arul Loves Priscilla  and Ezra Titus \n"
     ]
    }
   ],
   "source": [
    "a='Arul Loves '\n",
    "b='Priscilla '\n",
    "c=' and '\n",
    "d='Ezra Titus '\n",
    "e=a+b+c+d\n",
    "print(e)"
   ]
  },
  {
   "cell_type": "code",
   "execution_count": 7,
   "metadata": {},
   "outputs": [
    {
     "name": "stdout",
     "output_type": "stream",
     "text": [
      "8.2\n"
     ]
    }
   ],
   "source": [
    "a=1.2\n",
    "b=7\n",
    "c=a+b\n",
    "print(c)"
   ]
  },
  {
   "cell_type": "code",
   "execution_count": 18,
   "metadata": {},
   "outputs": [
    {
     "name": "stdout",
     "output_type": "stream",
     "text": [
      "Test name is Prisci and number is 102.8\n",
      "The address of num is 4513369232 and type is <class 'float'>\n",
      "The address of name is 4511951408 and type is <class 'str'>\n",
      "Test 2 name is Prisci and number is 7\n",
      "The address of num is 4474312016 and type is <class 'int'>\n",
      "Test 3 number is (9+30j)\n",
      "The address of num_3 is 4513369040 and type is <class 'complex'>\n",
      "The address of int_1 is 4474312080 and type is <class 'int'>\n"
     ]
    }
   ],
   "source": [
    "name = 'Prisci'\n",
    "num = 102.8\n",
    "int_1 = 9\n",
    "print('Test name is {} and number is {}'.format(name,num))\n",
    "print('The address of num is {} and type is {}'.format(id(num),type(num)))\n",
    "print('The address of name is {} and type is {}'.format(id(name),type(name)))\n",
    "num = 7\n",
    "print('Test 2 name is {} and number is {}'.format(name,num))\n",
    "print('The address of num is {} and type is {}'.format(id(num),type(num)))\n",
    "num_3 = 30j + 9\n",
    "print('Test 3 number is {}'.format(num_3))\n",
    "print('The address of num_3 is {} and type is {}'.format(id(num_3),type(num_3)))\n",
    "print('The address of int_1 is {} and type is {}'.format(id(int_1),type(int_1)))"
   ]
  },
  {
   "cell_type": "code",
   "execution_count": 20,
   "metadata": {},
   "outputs": [
    {
     "name": "stdout",
     "output_type": "stream",
     "text": [
      "tuple1 is (1, 2, 3, 4, 5, 6, 7, 8)\n",
      "The address of tuple1 is 4513488464 and type is <class 'tuple'>\n"
     ]
    },
    {
     "ename": "TypeError",
     "evalue": "'tuple' object does not support item assignment",
     "output_type": "error",
     "traceback": [
      "\u001b[0;31m---------------------------------------------------------------------------\u001b[0m",
      "\u001b[0;31mTypeError\u001b[0m                                 Traceback (most recent call last)",
      "\u001b[0;32m<ipython-input-20-1007e7986922>\u001b[0m in \u001b[0;36m<module>\u001b[0;34m\u001b[0m\n\u001b[1;32m      2\u001b[0m \u001b[0mprint\u001b[0m\u001b[0;34m(\u001b[0m\u001b[0;34m'tuple1 is {}'\u001b[0m\u001b[0;34m.\u001b[0m\u001b[0mformat\u001b[0m\u001b[0;34m(\u001b[0m\u001b[0mtuple1\u001b[0m\u001b[0;34m)\u001b[0m\u001b[0;34m)\u001b[0m\u001b[0;34m\u001b[0m\u001b[0;34m\u001b[0m\u001b[0m\n\u001b[1;32m      3\u001b[0m \u001b[0mprint\u001b[0m\u001b[0;34m(\u001b[0m\u001b[0;34m'The address of tuple1 is {} and type is {}'\u001b[0m\u001b[0;34m.\u001b[0m\u001b[0mformat\u001b[0m\u001b[0;34m(\u001b[0m\u001b[0mid\u001b[0m\u001b[0;34m(\u001b[0m\u001b[0mtuple1\u001b[0m\u001b[0;34m)\u001b[0m\u001b[0;34m,\u001b[0m\u001b[0mtype\u001b[0m\u001b[0;34m(\u001b[0m\u001b[0mtuple1\u001b[0m\u001b[0;34m)\u001b[0m\u001b[0;34m)\u001b[0m\u001b[0;34m)\u001b[0m\u001b[0;34m\u001b[0m\u001b[0;34m\u001b[0m\u001b[0m\n\u001b[0;32m----> 4\u001b[0;31m \u001b[0mtuple1\u001b[0m\u001b[0;34m[\u001b[0m\u001b[0;36m1\u001b[0m\u001b[0;34m]\u001b[0m \u001b[0;34m=\u001b[0m \u001b[0;36m200\u001b[0m\u001b[0;34m\u001b[0m\u001b[0;34m\u001b[0m\u001b[0m\n\u001b[0m\u001b[1;32m      5\u001b[0m \u001b[0mprint\u001b[0m\u001b[0;34m(\u001b[0m\u001b[0mtuple1\u001b[0m\u001b[0;34m)\u001b[0m\u001b[0;34m\u001b[0m\u001b[0;34m\u001b[0m\u001b[0m\n",
      "\u001b[0;31mTypeError\u001b[0m: 'tuple' object does not support item assignment"
     ]
    }
   ],
   "source": [
    "tuple1 = (1,2,3,4,5,6,7,8)\n",
    "print('tuple1 is {}'.format(tuple1))\n",
    "print('The address of tuple1 is {} and type is {}'.format(id(tuple1),type(tuple1)))\n",
    "tuple1[1] = 200\n",
    "print(tuple1)"
   ]
  },
  {
   "cell_type": "code",
   "execution_count": 22,
   "metadata": {},
   "outputs": [
    {
     "name": "stdout",
     "output_type": "stream",
     "text": [
      "[1, 2, 3, 4, 55, 2.3, (99+8j)]\n",
      "4513847728\n",
      "[1, 2, 'Arul', 4, 55, 2.3, (99+8j)]\n",
      "4513847728\n"
     ]
    }
   ],
   "source": [
    "list_1 = [1,2,3,4,55,2.3,8j+99]\n",
    "print(list_1)\n",
    "print(id(list_1))\n",
    "list_1[2]='Arul'\n",
    "print(list_1)\n",
    "print(id(list_1))\n"
   ]
  },
  {
   "cell_type": "code",
   "execution_count": 27,
   "metadata": {},
   "outputs": [
    {
     "name": "stdout",
     "output_type": "stream",
     "text": [
      "{1, 2, 3, 4, 5}\n",
      "{1, 2, 3, 4, 5}\n"
     ]
    },
    {
     "data": {
      "text/plain": [
       "'Set is always unique'"
      ]
     },
     "execution_count": 27,
     "metadata": {},
     "output_type": "execute_result"
    }
   ],
   "source": [
    "\n",
    "list1 = [1,2,3,4,5,1,2,3,4,5,1,2,3,4,5]\n",
    "set1 = set(list1)\n",
    "print(set1) \n",
    "\n",
    "set2 = {1,1,1,1,1,1,1,1,2,2,2,2,2,2,3,3,3,3,4,4,4,5}\n",
    "print(set2)\n",
    "\n",
    "'''Set is always unique'''"
   ]
  },
  {
   "cell_type": "code",
   "execution_count": 33,
   "metadata": {},
   "outputs": [
    {
     "name": "stdout",
     "output_type": "stream",
     "text": [
      "{'Team': ['India', 'Aus', 'Pak'], 'Rank': [1, 2, 3]}\n",
      "<class 'dict'>\n",
      "dict_keys(['Team', 'Rank'])\n",
      "dict_values([['India', 'Aus', 'Pak'], [1, 2, 3]])\n",
      "['__class__', '__contains__', '__delattr__', '__delitem__', '__dir__', '__doc__', '__eq__', '__format__', '__ge__', '__getattribute__', '__getitem__', '__gt__', '__hash__', '__init__', '__init_subclass__', '__iter__', '__le__', '__len__', '__lt__', '__ne__', '__new__', '__reduce__', '__reduce_ex__', '__repr__', '__setattr__', '__setitem__', '__sizeof__', '__str__', '__subclasshook__', 'clear', 'copy', 'fromkeys', 'get', 'items', 'keys', 'pop', 'popitem', 'setdefault', 'update', 'values']\n"
     ]
    }
   ],
   "source": [
    "dict1 = {'Team' : ['India','Aus','Pak'],\n",
    "        'Rank' : [1,2,3]}\n",
    "print(dict1)\n",
    "print(type(dict1))\n",
    "print(dict1.keys())\n",
    "print(dict1.values())\n",
    "print(dir(dict1))"
   ]
  },
  
  {
   "cell_type": "code",
   "execution_count": null,
   "metadata": {},
   "outputs": [],
   "source": []
  }
 ],
 "metadata": {
  "kernelspec": {
   "display_name": "Python 3",
   "language": "python",
   "name": "python3"
  },
  "language_info": {
   "codemirror_mode": {
    "name": "ipython",
    "version": 3
   },
   "file_extension": ".py",
   "mimetype": "text/x-python",
   "name": "python",
   "nbconvert_exporter": "python",
   "pygments_lexer": "ipython3",
   "version": "3.7.4"
  }
 },
 "nbformat": 4,
 "nbformat_minor": 2
}
